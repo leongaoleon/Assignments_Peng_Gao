{
 "cells": [
  {
   "cell_type": "markdown",
   "metadata": {},
   "source": [
    "## Derive Wallets for BTC and ETH:"
   ]
  },
  {
   "cell_type": "code",
   "execution_count": 2,
   "metadata": {},
   "outputs": [
    {
     "name": "stdout",
     "output_type": "stream",
     "text": [
      "{'btc-test': [{'address': 'msysuYEXcJsUXD9HWbuGDq3YHiyk7ninUb',\n",
      "               'index': 0,\n",
      "               'path': \"m/44'/1'/0'/0/0\",\n",
      "               'privkey': 'cUdEYBNQRGjXLE2xPByBxSoPwLUX2yjtFfnxkHYHGshDJNr3j12u',\n",
      "               'pubkey': '02f5ff6649e3068602dbc4f36a47b91c7c90411e321484742bd0b33545af2ab461',\n",
      "               'pubkeyhash': '88b913ca0b5bb9143b43e86c5858ba928df973f5',\n",
      "               'xprv': 'tprv8jFwmgkptH2r9HkLzByyxxAVjPCtMMZ391fwm56dHjAk9W26rJbLdyc4e24nxSszjcqZK94gRXq9jBBv9focHjyhYCpY4qngcbbGBv3V6X9',\n",
      "               'xpub': 'tpubDFwyv6o52eiX2kn8sqeaNMpcJQipWgjwiKGj3b8vhzy8yzGsUhQvpUDvp9HUDzQRypFi87K4SPS8Fokw87tp6quKfxSTnmciPpN3ez6xWcD'},\n",
      "              {'address': 'mrDAedrRRR5oC6c46LdokpTa2c74xi3uWg',\n",
      "               'index': 1,\n",
      "               'path': \"m/44'/1'/0'/0/1\",\n",
      "               'privkey': 'cQs9SfsccCPwc3r2oSG8wFkUEVsNiRjVeZ53NmudYqP6w9793mvr',\n",
      "               'pubkey': '03993c12754458266900216d24a9a8c78ecbc457ff6abea71ae00636c79209de0c',\n",
      "               'pubkeyhash': '754c35aa66b718e71832eb30ef72dceecbcbd5eb',\n",
      "               'xprv': 'tprv8jFwmgkptH2rD2HoMBo95U6HMnt3BSXkcuNu9tMmQreHLKrWdeXnqXd1Gb78ajE6LP8GBWuwUx15VGMSmXAoHqoRtiyheX9ZqbPrQ1nSFR4',\n",
      "               'xpub': 'tpubDFwyv6o52eiX6VKbEqTjUskPvpPyLmifCCygSQQ4q8SgAp7HG3MP22EsSkR7L9s96Zus5zN2cJQH6oXbYpGidfG1eruVZQu5yqbABsjZnNQ'},\n",
      "              {'address': 'mfqnGX9DWXEq9R3azyy1U2J88MfbpBshd8',\n",
      "               'index': 2,\n",
      "               'path': \"m/44'/1'/0'/0/2\",\n",
      "               'privkey': 'cVDGR8z6XUd2Z4t5fMcxmE84nHLDpBNuVxbknFMAjKJcybt7TDK1',\n",
      "               'pubkey': '031b62b422b022c0fa59d796d8a0f8671af08e39c4b5a8cc69f602216078d590dd',\n",
      "               'pubkeyhash': '038f889b8a78d785f756f221c280155fb979e14f',\n",
      "               'xprv': 'tprv8jFwmgkptH2rGEKMzKegvf7rtRDmoFPzb1h9TamooXtJeFK8rkmXKeUXaUJw6GDWwJpMgPpn1CwnS6VFhL3DXfRCNLungqYFdep7YwijRc4',\n",
      "               'xpub': 'tpubDFwyv6o52eiX9hM9syKHL4myTSjhxaauAKHvk6p7DoghUjZuV9b7W96PkbgNBCD3uh6gKMEjs5rJysVHcNrvXuhzevqz9JXR7fgbUBYrLAx'}],\n",
      " 'eth': [{'address': '0x9D5a02eAC2a6B05047b2045e663013B1318170c1',\n",
      "          'index': 0,\n",
      "          'path': \"m/44'/60'/0'/0/0\",\n",
      "          'privkey': '0xd859e379d22b07773ae478ae15d3e3a5d688931c8b2c292791742b3d763e3c8f',\n",
      "          'pubkey': '029a5d9f95d4e47e02c54427eeffb21fcff76fbd9f8aa1f3aa884dd6e319450764',\n",
      "          'pubkeyhash': 'c3e813cf00dcd035889d9c75dc6bccdd06725618',\n",
      "          'xprv': 'xprvA2Xpx38otVEsYwKMeGQYwPDreKEW1AntEWGUZxyxUBiu8mV9a3pvEJgJ7JMY2pkgg4vKetkfsN5Xue9BmjfQw5NdF1mV92RXCnziqowtUxV',\n",
      "          'xpub': 'xpub6FXBMYfhiroAmRPpkHwZJXAbCM4zQdWjbjC5NMPa2XFt1ZpJ7b9An6zmxYv195nmzxSGkye113FbD4wBFiQjvgJkVFWBP5xDdyHT9uaSEeq'},\n",
      "         {'address': '0x7041eC1de53F5c73a2d1275dadac11C78D0F0125',\n",
      "          'index': 1,\n",
      "          'path': \"m/44'/60'/0'/0/1\",\n",
      "          'privkey': '0xe44af06146d20207efba191c24cdb61f0be17efb9960e78528174120db37f32c',\n",
      "          'pubkey': '03c3ccbb3f1910f6951234d54705987f7e2b3c38c40959e571ee4177d9a7c72951',\n",
      "          'pubkeyhash': '6f7910340ed2b8dd3a62f453cfd0169eda8d5b36',\n",
      "          'xprv': 'xprvA2Xpx38otVEsbSwsLJ9KEki9Vrg4Eh2ZgSnp6Bk3LRWHSSudGGRhgrz23oJdHyH3Siy5vJyjUZu27sefFQybAybQtzmQg9xSbuWCAFKZ6FH',\n",
      "          'xpub': 'xpub6FXBMYfhiroAow2LSKgKbtet3tWYe9kR3fiQta9etm3GKFEmoojxEfJVu62pvRJy6FU3WanUH5qeyXU5j6MboU6LQWjMdUN6gFTv1bURVbJ'},\n",
      "         {'address': '0xbf1f1f55a0D1a0c5BdCCAa9D4F2D5ce0b6101573',\n",
      "          'index': 2,\n",
      "          'path': \"m/44'/60'/0'/0/2\",\n",
      "          'privkey': '0x35d9f801557b2b52d1c1d1efbff1ea4b097b248c8fd0b2000f9643b89be28d2c',\n",
      "          'pubkey': '0395c93d3fc35eed70a0d6eff0e438bbb4e4e8089220407d2d1300315dce5babda',\n",
      "          'pubkeyhash': '1bdedf08259909dfa668117202295b905990bfc6',\n",
      "          'xprv': 'xprvA2Xpx38otVEsePaYRGLRwkGMzqJkW9NudMyefFdQvrNJfyj3cJvmiDeACuCcs1wmb3qDi6bVzkFuHFcGBqBmUAAxntAuXTEz5AQ1g4agLkZ',\n",
      "          'xpub': 'xpub6FXBMYfhiroArsf1XHsSJtD6Ys9Euc6kzauFTe32VBuHYn4C9rF2G1xe4CuP1A4ReYZUL5iYvyFMmmZoGoYZs4guEPcrMHMruwetwo1BjLG'}]}\n"
     ]
    }
   ],
   "source": [
    "from num19_wallet import *"
   ]
  },
  {
   "cell_type": "markdown",
   "metadata": {},
   "source": [
    "## BTC-TEST Transactions:"
   ]
  },
  {
   "cell_type": "code",
   "execution_count": 6,
   "metadata": {},
   "outputs": [],
   "source": [
    "# Creat btc-test account object:\n",
    "account = priv_key_to_account(BTCTEST, coins[BTCTEST][0]['privkey'])\n",
    "\n",
    "# send transactions on BTC-TEST network:\n",
    "send_tx(BTCTEST, account, coins[BTCTEST][0]['address'], 0.00005)"
   ]
  },
  {
   "cell_type": "markdown",
   "metadata": {},
   "source": [
    "## Local PoA ETH Transactions:"
   ]
  },
  {
   "cell_type": "code",
   "execution_count": 5,
   "metadata": {},
   "outputs": [
    {
     "name": "stdout",
     "output_type": "stream",
     "text": [
      "0x9eccef19831bf3755be3e71b2901eaffcf2242d5d45e5b41e287e4f3bec2c60d\n"
     ]
    },
    {
     "data": {
      "text/plain": [
       "'0x9eccef19831bf3755be3e71b2901eaffcf2242d5d45e5b41e287e4f3bec2c60d'"
      ]
     },
     "execution_count": 5,
     "metadata": {},
     "output_type": "execute_result"
    }
   ],
   "source": [
    "# Creat eth account object:\n",
    "account = priv_key_to_account(ETH, coins[ETH][0]['privkey'])\n",
    "\n",
    "# send transactions on local ETH network:\n",
    "send_tx(ETH, account, coins[ETH][1]['address'], 100000000000000000000)"
   ]
  }
 ],
 "metadata": {
  "kernelspec": {
   "display_name": "Python [conda env:monenv]",
   "language": "python",
   "name": "conda-env-monenv-py"
  },
  "language_info": {
   "codemirror_mode": {
    "name": "ipython",
    "version": 3
   },
   "file_extension": ".py",
   "mimetype": "text/x-python",
   "name": "python",
   "nbconvert_exporter": "python",
   "pygments_lexer": "ipython3",
   "version": "3.7.9"
  }
 },
 "nbformat": 4,
 "nbformat_minor": 4
}
