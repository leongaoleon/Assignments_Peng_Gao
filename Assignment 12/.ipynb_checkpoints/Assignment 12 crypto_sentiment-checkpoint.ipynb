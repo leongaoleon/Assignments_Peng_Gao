{
 "cells": [
  {
   "cell_type": "markdown",
   "metadata": {},
   "source": [
    "# Unit 12 - Tales from the Crypto\n",
    "\n",
    "---\n"
   ]
  },
  {
   "cell_type": "markdown",
   "metadata": {},
   "source": [
    "## 1. Sentiment Analysis\n",
    "\n",
    "Use the [newsapi](https://newsapi.org/) to pull the latest news articles for Bitcoin and Ethereum and create a DataFrame of sentiment scores for each coin.\n",
    "\n",
    "Use descriptive statistics to answer the following questions:\n",
    "1. Which coin had the highest mean positive score?\n",
    "2. Which coin had the highest negative score?\n",
    "3. Which coin had the highest positive score?"
   ]
  },
  {
   "cell_type": "code",
   "execution_count": 1,
   "metadata": {},
   "outputs": [
    {
     "name": "stderr",
     "output_type": "stream",
     "text": [
      "[nltk_data] Downloading package vader_lexicon to\n",
      "[nltk_data]     C:\\Users\\LEON\\AppData\\Roaming\\nltk_data...\n",
      "[nltk_data]   Package vader_lexicon is already up-to-date!\n",
      "In C:\\Users\\LEON\\anaconda3\\envs\\quantenv\\lib\\site-packages\\matplotlib\\mpl-data\\stylelib\\_classic_test.mplstyle: \n",
      "The savefig.frameon rcparam was deprecated in Matplotlib 3.1 and will be removed in 3.3.\n",
      "In C:\\Users\\LEON\\anaconda3\\envs\\quantenv\\lib\\site-packages\\matplotlib\\mpl-data\\stylelib\\_classic_test.mplstyle: \n",
      "The verbose.level rcparam was deprecated in Matplotlib 3.1 and will be removed in 3.3.\n",
      "In C:\\Users\\LEON\\anaconda3\\envs\\quantenv\\lib\\site-packages\\matplotlib\\mpl-data\\stylelib\\_classic_test.mplstyle: \n",
      "The verbose.fileo rcparam was deprecated in Matplotlib 3.1 and will be removed in 3.3.\n"
     ]
    }
   ],
   "source": [
    "# Initial imports\n",
    "import os\n",
    "from dotenv import load_dotenv\n",
    "from path import Path\n",
    "import pandas as pd\n",
    "\n",
    "import nltk as nltk\n",
    "from nltk.sentiment.vader import SentimentIntensityAnalyzer\n",
    "nltk.download('vader_lexicon')\n",
    "analyzer = SentimentIntensityAnalyzer()\n",
    "\n",
    "%matplotlib inline"
   ]
  },
  {
   "cell_type": "code",
   "execution_count": 2,
   "metadata": {},
   "outputs": [
    {
     "data": {
      "text/plain": [
       "str"
      ]
     },
     "execution_count": 2,
     "metadata": {},
     "output_type": "execute_result"
    }
   ],
   "source": [
    "# Load env variables and read the News API Key enviroment variable\n",
    "load_dotenv(dotenv_path = Path(\"C:/Users/Leon/API_keys/.env\"))\n",
    "api_key = os.getenv(\"NEWS_API_KEY\")\n",
    "type(api_key)"
   ]
  },
  {
   "cell_type": "code",
   "execution_count": 3,
   "metadata": {},
   "outputs": [],
   "source": [
    "# Create a newsapi client\n",
    "from newsapi import NewsApiClient\n",
    "newsapi = NewsApiClient(api_key=api_key)"
   ]
  },
  {
   "cell_type": "code",
   "execution_count": 4,
   "metadata": {},
   "outputs": [
    {
     "name": "stdout",
     "output_type": "stream",
     "text": [
      "Total articles about Bitcoin: 7182\n"
     ]
    },
    {
     "data": {
      "text/plain": [
       "{'source': {'id': 'the-verge', 'name': 'The Verge'},\n",
       " 'author': 'Elizabeth Lopatto',\n",
       " 'title': 'Jack Dorsey defends Twitter’s Trump ban, then enthuses about bitcoin',\n",
       " 'description': 'Twitter CEO Jack Dorsey, in a series of Tweets, explained that he felt banning US President Donald Trump’s account was the right move for the social network. “Offline harm as a result of online speech is demonstrably real, and what drives our policy and enfor…',\n",
       " 'url': 'https://www.theverge.com/2021/1/13/22230028/jack-dorsey-donald-trump-twitter-ban-moderation-bitcoin-thread',\n",
       " 'urlToImage': 'https://cdn.vox-cdn.com/thumbor/2pWrvN_qQZ7qWG0HEMBnYO0n8ks=/0x10:3323x1750/fit-in/1200x630/cdn.vox-cdn.com/uploads/chorus_asset/file/22234226/1229659186.jpg',\n",
       " 'publishedAt': '2021-01-14T00:57:27Z',\n",
       " 'content': 'Ban reflects Twitters failure to promote healthy conversation\\r\\nPhoto by Hannah McKay-Pool/Getty Images\\r\\nTwitter CEO Jack Dorsey, in a series of Tweets, explained that he felt banning US President Don… [+3185 chars]'}"
      ]
     },
     "execution_count": 4,
     "metadata": {},
     "output_type": "execute_result"
    }
   ],
   "source": [
    "# Fetch the Bitcoin news articles\n",
    "Bitcoin_headlines = newsapi.get_everything(\n",
    "    q=\"Bitcoin\",            \n",
    "    language=\"en\",\n",
    "    page_size=100,\n",
    "    sort_by=\"relevancy\"\n",
    ")\n",
    "\n",
    "# Print total articles\n",
    "print(f\"Total articles about Bitcoin: {Bitcoin_headlines['totalResults']}\")\n",
    "\n",
    "# Show sample article\n",
    "Bitcoin_headlines[\"articles\"][0]\n"
   ]
  },
  {
   "cell_type": "code",
   "execution_count": 5,
   "metadata": {},
   "outputs": [
    {
     "name": "stdout",
     "output_type": "stream",
     "text": [
      "Total articles about Ethereum: 1581\n"
     ]
    },
    {
     "data": {
      "text/plain": [
       "{'source': {'id': 'techcrunch', 'name': 'TechCrunch'},\n",
       " 'author': 'Lucas Matney',\n",
       " 'title': 'Coinbase is going public via direct listing',\n",
       " 'description': 'Coinbase plans to go public by way of a direct listing, the company announced in a blog post today. The cryptocurrency exchange was founded in 2012 and allows users to buy and trade decentralized tokens like bitcoin and ethereum. The company has raised over $…',\n",
       " 'url': 'http://techcrunch.com/2021/01/28/coinbase-is-going-public-via-direct-listing/',\n",
       " 'urlToImage': 'https://techcrunch.com/wp-content/uploads/2019/01/coinbase.jpg?w=750',\n",
       " 'publishedAt': '2021-01-28T19:36:35Z',\n",
       " 'content': 'Coinbase plans to go public by way of a direct listing, the company announced in a blog post today.\\r\\nThe cryptocurrency exchange was founded in 2012 and allows users to buy and trade decentralized to… [+1258 chars]'}"
      ]
     },
     "execution_count": 5,
     "metadata": {},
     "output_type": "execute_result"
    }
   ],
   "source": [
    "# Fetch the Ethereum news articles\n",
    "Ethereum_headlines = newsapi.get_everything(\n",
    "    q=\"Ethereum\",            \n",
    "    language=\"en\",\n",
    "    page_size=100,\n",
    "    sort_by=\"relevancy\"\n",
    ")\n",
    "\n",
    "# Print total articles\n",
    "print(f\"Total articles about Ethereum: {Ethereum_headlines['totalResults']}\")\n",
    "\n",
    "# Show sample article\n",
    "Ethereum_headlines[\"articles\"][0]"
   ]
  },
  {
   "cell_type": "code",
   "execution_count": 6,
   "metadata": {},
   "outputs": [
    {
     "data": {
      "text/html": [
       "<div>\n",
       "<style scoped>\n",
       "    .dataframe tbody tr th:only-of-type {\n",
       "        vertical-align: middle;\n",
       "    }\n",
       "\n",
       "    .dataframe tbody tr th {\n",
       "        vertical-align: top;\n",
       "    }\n",
       "\n",
       "    .dataframe thead th {\n",
       "        text-align: right;\n",
       "    }\n",
       "</style>\n",
       "<table border=\"1\" class=\"dataframe\">\n",
       "  <thead>\n",
       "    <tr style=\"text-align: right;\">\n",
       "      <th></th>\n",
       "      <th>date</th>\n",
       "      <th>text</th>\n",
       "      <th>compound</th>\n",
       "      <th>positive</th>\n",
       "      <th>negative</th>\n",
       "      <th>neutral</th>\n",
       "    </tr>\n",
       "  </thead>\n",
       "  <tbody>\n",
       "    <tr>\n",
       "      <th>0</th>\n",
       "      <td>2021-01-14</td>\n",
       "      <td>Ban reflects Twitters failure to promote healt...</td>\n",
       "      <td>-0.3818</td>\n",
       "      <td>0.135</td>\n",
       "      <td>0.176</td>\n",
       "      <td>0.689</td>\n",
       "    </tr>\n",
       "    <tr>\n",
       "      <th>1</th>\n",
       "      <td>2021-01-18</td>\n",
       "      <td>When Mt. Gox went bankrupt in 2014, it was the...</td>\n",
       "      <td>-0.5574</td>\n",
       "      <td>0.000</td>\n",
       "      <td>0.096</td>\n",
       "      <td>0.904</td>\n",
       "    </tr>\n",
       "    <tr>\n",
       "      <th>2</th>\n",
       "      <td>2021-01-14</td>\n",
       "      <td>Cryptocurrency exchange company Gemini is acqu...</td>\n",
       "      <td>0.6249</td>\n",
       "      <td>0.150</td>\n",
       "      <td>0.000</td>\n",
       "      <td>0.850</td>\n",
       "    </tr>\n",
       "    <tr>\n",
       "      <th>3</th>\n",
       "      <td>2021-01-28</td>\n",
       "      <td>TL;DR: The Bitcoin and Cryptocurrency Mastery ...</td>\n",
       "      <td>0.0000</td>\n",
       "      <td>0.000</td>\n",
       "      <td>0.000</td>\n",
       "      <td>1.000</td>\n",
       "    </tr>\n",
       "    <tr>\n",
       "      <th>4</th>\n",
       "      <td>2021-01-29</td>\n",
       "      <td>As the man himself said, it was inevitable. \\r...</td>\n",
       "      <td>-0.5037</td>\n",
       "      <td>0.000</td>\n",
       "      <td>0.114</td>\n",
       "      <td>0.886</td>\n",
       "    </tr>\n",
       "  </tbody>\n",
       "</table>\n",
       "</div>"
      ],
      "text/plain": [
       "         date                                               text  compound  \\\n",
       "0  2021-01-14  Ban reflects Twitters failure to promote healt...   -0.3818   \n",
       "1  2021-01-18  When Mt. Gox went bankrupt in 2014, it was the...   -0.5574   \n",
       "2  2021-01-14  Cryptocurrency exchange company Gemini is acqu...    0.6249   \n",
       "3  2021-01-28  TL;DR: The Bitcoin and Cryptocurrency Mastery ...    0.0000   \n",
       "4  2021-01-29  As the man himself said, it was inevitable. \\r...   -0.5037   \n",
       "\n",
       "   positive  negative  neutral  \n",
       "0     0.135     0.176    0.689  \n",
       "1     0.000     0.096    0.904  \n",
       "2     0.150     0.000    0.850  \n",
       "3     0.000     0.000    1.000  \n",
       "4     0.000     0.114    0.886  "
      ]
     },
     "execution_count": 6,
     "metadata": {},
     "output_type": "execute_result"
    }
   ],
   "source": [
    "# Create the Bitcoin sentiment scores DataFrame\n",
    "Bitcoin_sentiments = []\n",
    "\n",
    "for article in Bitcoin_headlines[\"articles\"]:\n",
    "    try:\n",
    "        text = article[\"content\"]\n",
    "        date = article[\"publishedAt\"][:10]\n",
    "        \n",
    "        sentiment = analyzer.polarity_scores(text)\n",
    "        compound = sentiment[\"compound\"]\n",
    "        pos = sentiment[\"pos\"]\n",
    "        neu = sentiment[\"neu\"]\n",
    "        neg = sentiment[\"neg\"]\n",
    "        \n",
    "        Bitcoin_sentiments.append({\n",
    "            \"text\": text,\n",
    "            \"date\": date,\n",
    "            \n",
    "            \"compound\": compound,\n",
    "            \"positive\": pos,\n",
    "            \"negative\": neg,\n",
    "            \"neutral\": neu\n",
    "            \n",
    "        })\n",
    "        \n",
    "    except AttributeError:\n",
    "        pass\n",
    "\n",
    "# Create DataFrame\n",
    "Bitcoin_df = pd.DataFrame(Bitcoin_sentiments)\n",
    "\n",
    "# Reorder DataFrame columns\n",
    "cols = [\"date\", \"text\", \"compound\", \"positive\", \"negative\", \"neutral\"]\n",
    "Bitcoin_df = Bitcoin_df[cols]\n",
    "\n",
    "Bitcoin_df.head()\n",
    "   "
   ]
  },
  {
   "cell_type": "code",
   "execution_count": 7,
   "metadata": {},
   "outputs": [
    {
     "data": {
      "text/html": [
       "<div>\n",
       "<style scoped>\n",
       "    .dataframe tbody tr th:only-of-type {\n",
       "        vertical-align: middle;\n",
       "    }\n",
       "\n",
       "    .dataframe tbody tr th {\n",
       "        vertical-align: top;\n",
       "    }\n",
       "\n",
       "    .dataframe thead th {\n",
       "        text-align: right;\n",
       "    }\n",
       "</style>\n",
       "<table border=\"1\" class=\"dataframe\">\n",
       "  <thead>\n",
       "    <tr style=\"text-align: right;\">\n",
       "      <th></th>\n",
       "      <th>date</th>\n",
       "      <th>text</th>\n",
       "      <th>compound</th>\n",
       "      <th>positive</th>\n",
       "      <th>negative</th>\n",
       "      <th>neutral</th>\n",
       "    </tr>\n",
       "  </thead>\n",
       "  <tbody>\n",
       "    <tr>\n",
       "      <th>0</th>\n",
       "      <td>2021-01-28</td>\n",
       "      <td>Coinbase plans to go public by way of a direct...</td>\n",
       "      <td>0.0000</td>\n",
       "      <td>0.000</td>\n",
       "      <td>0.0</td>\n",
       "      <td>1.000</td>\n",
       "    </tr>\n",
       "    <tr>\n",
       "      <th>1</th>\n",
       "      <td>2021-02-04</td>\n",
       "      <td>FILE PHOTO: Representation of the Ethereum vir...</td>\n",
       "      <td>0.0000</td>\n",
       "      <td>0.000</td>\n",
       "      <td>0.0</td>\n",
       "      <td>1.000</td>\n",
       "    </tr>\n",
       "    <tr>\n",
       "      <th>2</th>\n",
       "      <td>2021-02-03</td>\n",
       "      <td>By Reuters Staff\\r\\nFILE PHOTO: Representation...</td>\n",
       "      <td>0.0000</td>\n",
       "      <td>0.000</td>\n",
       "      <td>0.0</td>\n",
       "      <td>1.000</td>\n",
       "    </tr>\n",
       "    <tr>\n",
       "      <th>3</th>\n",
       "      <td>2021-02-04</td>\n",
       "      <td>FILE PHOTO: Representation of the Ethereum vir...</td>\n",
       "      <td>0.0000</td>\n",
       "      <td>0.000</td>\n",
       "      <td>0.0</td>\n",
       "      <td>1.000</td>\n",
       "    </tr>\n",
       "    <tr>\n",
       "      <th>4</th>\n",
       "      <td>2021-01-05</td>\n",
       "      <td>Cryptocurrencies stole headlines on the first ...</td>\n",
       "      <td>0.3412</td>\n",
       "      <td>0.074</td>\n",
       "      <td>0.0</td>\n",
       "      <td>0.926</td>\n",
       "    </tr>\n",
       "  </tbody>\n",
       "</table>\n",
       "</div>"
      ],
      "text/plain": [
       "         date                                               text  compound  \\\n",
       "0  2021-01-28  Coinbase plans to go public by way of a direct...    0.0000   \n",
       "1  2021-02-04  FILE PHOTO: Representation of the Ethereum vir...    0.0000   \n",
       "2  2021-02-03  By Reuters Staff\\r\\nFILE PHOTO: Representation...    0.0000   \n",
       "3  2021-02-04  FILE PHOTO: Representation of the Ethereum vir...    0.0000   \n",
       "4  2021-01-05  Cryptocurrencies stole headlines on the first ...    0.3412   \n",
       "\n",
       "   positive  negative  neutral  \n",
       "0     0.000       0.0    1.000  \n",
       "1     0.000       0.0    1.000  \n",
       "2     0.000       0.0    1.000  \n",
       "3     0.000       0.0    1.000  \n",
       "4     0.074       0.0    0.926  "
      ]
     },
     "execution_count": 7,
     "metadata": {},
     "output_type": "execute_result"
    }
   ],
   "source": [
    "# Create the Ethereum sentiment scores DataFrame\n",
    "Ethereum_sentiments = []\n",
    "\n",
    "for article in Ethereum_headlines[\"articles\"]:\n",
    "    try:\n",
    "        text = article[\"content\"]\n",
    "        date = article[\"publishedAt\"][:10]\n",
    "        \n",
    "        sentiment = analyzer.polarity_scores(text)\n",
    "        compound = sentiment[\"compound\"]\n",
    "        pos = sentiment[\"pos\"]\n",
    "        neu = sentiment[\"neu\"]\n",
    "        neg = sentiment[\"neg\"]\n",
    "        \n",
    "        Ethereum_sentiments.append({\n",
    "            \"text\": text,\n",
    "            \"date\": date,\n",
    "            \n",
    "            \"compound\": compound,\n",
    "            \"positive\": pos,\n",
    "            \"negative\": neg,\n",
    "            \"neutral\": neu\n",
    "            \n",
    "        })\n",
    "        \n",
    "    except AttributeError:\n",
    "        pass\n",
    "    \n",
    "# Create DataFrame\n",
    "Ethereum_df = pd.DataFrame(Ethereum_sentiments)\n",
    "\n",
    "# Reorder DataFrame columns\n",
    "cols = [\"date\", \"text\", \"compound\", \"positive\", \"negative\", \"neutral\"]\n",
    "Ethereum_df = Ethereum_df[cols]\n",
    "\n",
    "Ethereum_df.head()"
   ]
  },
  {
   "cell_type": "code",
   "execution_count": 8,
   "metadata": {},
   "outputs": [
    {
     "data": {
      "text/html": [
       "<div>\n",
       "<style scoped>\n",
       "    .dataframe tbody tr th:only-of-type {\n",
       "        vertical-align: middle;\n",
       "    }\n",
       "\n",
       "    .dataframe tbody tr th {\n",
       "        vertical-align: top;\n",
       "    }\n",
       "\n",
       "    .dataframe thead th {\n",
       "        text-align: right;\n",
       "    }\n",
       "</style>\n",
       "<table border=\"1\" class=\"dataframe\">\n",
       "  <thead>\n",
       "    <tr style=\"text-align: right;\">\n",
       "      <th></th>\n",
       "      <th>compound</th>\n",
       "      <th>positive</th>\n",
       "      <th>negative</th>\n",
       "      <th>neutral</th>\n",
       "    </tr>\n",
       "  </thead>\n",
       "  <tbody>\n",
       "    <tr>\n",
       "      <th>count</th>\n",
       "      <td>94.000000</td>\n",
       "      <td>94.000000</td>\n",
       "      <td>94.000000</td>\n",
       "      <td>94.000000</td>\n",
       "    </tr>\n",
       "    <tr>\n",
       "      <th>mean</th>\n",
       "      <td>0.025647</td>\n",
       "      <td>0.037043</td>\n",
       "      <td>0.027255</td>\n",
       "      <td>0.935713</td>\n",
       "    </tr>\n",
       "    <tr>\n",
       "      <th>std</th>\n",
       "      <td>0.334549</td>\n",
       "      <td>0.062020</td>\n",
       "      <td>0.053379</td>\n",
       "      <td>0.086485</td>\n",
       "    </tr>\n",
       "    <tr>\n",
       "      <th>min</th>\n",
       "      <td>-0.844200</td>\n",
       "      <td>0.000000</td>\n",
       "      <td>0.000000</td>\n",
       "      <td>0.647000</td>\n",
       "    </tr>\n",
       "    <tr>\n",
       "      <th>25%</th>\n",
       "      <td>0.000000</td>\n",
       "      <td>0.000000</td>\n",
       "      <td>0.000000</td>\n",
       "      <td>0.899250</td>\n",
       "    </tr>\n",
       "    <tr>\n",
       "      <th>50%</th>\n",
       "      <td>0.000000</td>\n",
       "      <td>0.000000</td>\n",
       "      <td>0.000000</td>\n",
       "      <td>1.000000</td>\n",
       "    </tr>\n",
       "    <tr>\n",
       "      <th>75%</th>\n",
       "      <td>0.115300</td>\n",
       "      <td>0.066750</td>\n",
       "      <td>0.028500</td>\n",
       "      <td>1.000000</td>\n",
       "    </tr>\n",
       "    <tr>\n",
       "      <th>max</th>\n",
       "      <td>0.921700</td>\n",
       "      <td>0.353000</td>\n",
       "      <td>0.228000</td>\n",
       "      <td>1.000000</td>\n",
       "    </tr>\n",
       "  </tbody>\n",
       "</table>\n",
       "</div>"
      ],
      "text/plain": [
       "        compound   positive   negative    neutral\n",
       "count  94.000000  94.000000  94.000000  94.000000\n",
       "mean    0.025647   0.037043   0.027255   0.935713\n",
       "std     0.334549   0.062020   0.053379   0.086485\n",
       "min    -0.844200   0.000000   0.000000   0.647000\n",
       "25%     0.000000   0.000000   0.000000   0.899250\n",
       "50%     0.000000   0.000000   0.000000   1.000000\n",
       "75%     0.115300   0.066750   0.028500   1.000000\n",
       "max     0.921700   0.353000   0.228000   1.000000"
      ]
     },
     "execution_count": 8,
     "metadata": {},
     "output_type": "execute_result"
    }
   ],
   "source": [
    "# Describe the Bitcoin Sentiment\n",
    "Bitcoin_df.describe()"
   ]
  },
  {
   "cell_type": "code",
   "execution_count": 9,
   "metadata": {},
   "outputs": [
    {
     "data": {
      "text/html": [
       "<div>\n",
       "<style scoped>\n",
       "    .dataframe tbody tr th:only-of-type {\n",
       "        vertical-align: middle;\n",
       "    }\n",
       "\n",
       "    .dataframe tbody tr th {\n",
       "        vertical-align: top;\n",
       "    }\n",
       "\n",
       "    .dataframe thead th {\n",
       "        text-align: right;\n",
       "    }\n",
       "</style>\n",
       "<table border=\"1\" class=\"dataframe\">\n",
       "  <thead>\n",
       "    <tr style=\"text-align: right;\">\n",
       "      <th></th>\n",
       "      <th>compound</th>\n",
       "      <th>positive</th>\n",
       "      <th>negative</th>\n",
       "      <th>neutral</th>\n",
       "    </tr>\n",
       "  </thead>\n",
       "  <tbody>\n",
       "    <tr>\n",
       "      <th>count</th>\n",
       "      <td>94.000000</td>\n",
       "      <td>94.000000</td>\n",
       "      <td>94.000000</td>\n",
       "      <td>94.000000</td>\n",
       "    </tr>\n",
       "    <tr>\n",
       "      <th>mean</th>\n",
       "      <td>0.123374</td>\n",
       "      <td>0.057011</td>\n",
       "      <td>0.023968</td>\n",
       "      <td>0.919032</td>\n",
       "    </tr>\n",
       "    <tr>\n",
       "      <th>std</th>\n",
       "      <td>0.348758</td>\n",
       "      <td>0.074360</td>\n",
       "      <td>0.049680</td>\n",
       "      <td>0.091538</td>\n",
       "    </tr>\n",
       "    <tr>\n",
       "      <th>min</th>\n",
       "      <td>-0.812600</td>\n",
       "      <td>0.000000</td>\n",
       "      <td>0.000000</td>\n",
       "      <td>0.687000</td>\n",
       "    </tr>\n",
       "    <tr>\n",
       "      <th>25%</th>\n",
       "      <td>0.000000</td>\n",
       "      <td>0.000000</td>\n",
       "      <td>0.000000</td>\n",
       "      <td>0.875000</td>\n",
       "    </tr>\n",
       "    <tr>\n",
       "      <th>50%</th>\n",
       "      <td>0.000000</td>\n",
       "      <td>0.017500</td>\n",
       "      <td>0.000000</td>\n",
       "      <td>0.935500</td>\n",
       "    </tr>\n",
       "    <tr>\n",
       "      <th>75%</th>\n",
       "      <td>0.356200</td>\n",
       "      <td>0.100000</td>\n",
       "      <td>0.027750</td>\n",
       "      <td>1.000000</td>\n",
       "    </tr>\n",
       "    <tr>\n",
       "      <th>max</th>\n",
       "      <td>0.900100</td>\n",
       "      <td>0.313000</td>\n",
       "      <td>0.208000</td>\n",
       "      <td>1.000000</td>\n",
       "    </tr>\n",
       "  </tbody>\n",
       "</table>\n",
       "</div>"
      ],
      "text/plain": [
       "        compound   positive   negative    neutral\n",
       "count  94.000000  94.000000  94.000000  94.000000\n",
       "mean    0.123374   0.057011   0.023968   0.919032\n",
       "std     0.348758   0.074360   0.049680   0.091538\n",
       "min    -0.812600   0.000000   0.000000   0.687000\n",
       "25%     0.000000   0.000000   0.000000   0.875000\n",
       "50%     0.000000   0.017500   0.000000   0.935500\n",
       "75%     0.356200   0.100000   0.027750   1.000000\n",
       "max     0.900100   0.313000   0.208000   1.000000"
      ]
     },
     "execution_count": 9,
     "metadata": {},
     "output_type": "execute_result"
    }
   ],
   "source": [
    "# Describe the Ethereum Sentiment\n",
    "Ethereum_df.describe()"
   ]
  },
  {
   "cell_type": "markdown",
   "metadata": {},
   "source": [
    "### Questions:\n",
    "\n",
    "Q: Which coin had the highest mean positive score?\n",
    "\n",
    "A: Ethereum (0.057) has the highest mean positive score vs. Bitcoin (0.027)\n",
    "\n",
    "Q: Which coin had the highest compound score?\n",
    "\n",
    "A: Bitcoin (0.9217) had the highest coumpound score vs. Ethereum (0.9001)\n",
    "\n",
    "Q. Which coin had the highest positive score?\n",
    "\n",
    "A: Bitcoin (0.353) had the highest positive sore vs. Ethereum (0.313)"
   ]
  },
  {
   "cell_type": "markdown",
   "metadata": {},
   "source": [
    "---"
   ]
  },
  {
   "cell_type": "markdown",
   "metadata": {},
   "source": [
    "## 2. Natural Language Processing\n",
    "---\n",
    "###   Tokenizer\n",
    "\n",
    "In this section, you will use NLTK and Python to tokenize the text for each coin. Be sure to:\n",
    "1. Lowercase each word.\n",
    "2. Remove Punctuation.\n",
    "3. Remove Stopwords."
   ]
  },
  {
   "cell_type": "code",
   "execution_count": 10,
   "metadata": {},
   "outputs": [],
   "source": [
    "from nltk.tokenize import word_tokenize, sent_tokenize\n",
    "\n",
    "from nltk.corpus import stopwords\n",
    "from nltk.stem import WordNetLemmatizer, PorterStemmer\n",
    "import re"
   ]
  },
  {
   "cell_type": "code",
   "execution_count": 11,
   "metadata": {},
   "outputs": [],
   "source": [
    "# Instantiate the lemmatizer\n",
    "lemmatizer = WordNetLemmatizer()"
   ]
  },
  {
   "cell_type": "code",
   "execution_count": 17,
   "metadata": {},
   "outputs": [],
   "source": [
    "# Complete the tokenizer function\n",
    "def tokenizer(text):\n",
    "    \"\"\"Tokenizes text.\"\"\"\n",
    "    \n",
    "    # Remove characters that are not lettersthe including punctuation from text\n",
    "    regex = re.compile(\"[^a-zA-Z ]\")           \n",
    "    re_clean = regex.sub('', text)\n",
    "   \n",
    "    # Create a tokenized list of the words\n",
    "    words = word_tokenize(re_clean)  \n",
    "    \n",
    "    # Lemmatize words into root words\n",
    "    lem = [lemmatizer.lemmatize(word) for word in words]   \n",
    "   \n",
    "    # Create a list of stopwords\n",
    "    sw = set(stopwords.words('english')) \t\n",
    "    # Expand the default stopwords list if necessary\n",
    "    sw_addons = {}\n",
    "    \n",
    "    # Covert to lower case & Remove the stop words\n",
    "    output = [word.lower() for word in lem if word.lower() not in sw.union(sw_addons)]\n",
    "        \n",
    "    return output"
   ]
  },
  {
   "cell_type": "code",
   "execution_count": 18,
   "metadata": {},
   "outputs": [],
   "source": [
    "# Create a new tokens column for Bitcoin\n",
    "Bitcoin_df[\"Bitcoin_tokenized\"]=  Bitcoin_df[\"text\"].apply(tokenizer)  \n",
    "Bitcoin_df.head()"
   ]
  },
  {
   "cell_type": "code",
   "execution_count": 19,
   "metadata": {},
   "outputs": [
    {
     "data": {
      "text/html": [
       "<div>\n",
       "<style scoped>\n",
       "    .dataframe tbody tr th:only-of-type {\n",
       "        vertical-align: middle;\n",
       "    }\n",
       "\n",
       "    .dataframe tbody tr th {\n",
       "        vertical-align: top;\n",
       "    }\n",
       "\n",
       "    .dataframe thead th {\n",
       "        text-align: right;\n",
       "    }\n",
       "</style>\n",
       "<table border=\"1\" class=\"dataframe\">\n",
       "  <thead>\n",
       "    <tr style=\"text-align: right;\">\n",
       "      <th></th>\n",
       "      <th>date</th>\n",
       "      <th>text</th>\n",
       "      <th>compound</th>\n",
       "      <th>positive</th>\n",
       "      <th>negative</th>\n",
       "      <th>neutral</th>\n",
       "      <th>Ethereum_tokenized</th>\n",
       "    </tr>\n",
       "  </thead>\n",
       "  <tbody>\n",
       "    <tr>\n",
       "      <th>0</th>\n",
       "      <td>2021-01-28</td>\n",
       "      <td>Coinbase plans to go public by way of a direct...</td>\n",
       "      <td>0.0000</td>\n",
       "      <td>0.000</td>\n",
       "      <td>0.0</td>\n",
       "      <td>1.000</td>\n",
       "      <td>[coinbase, plan, go, public, way, direct, list...</td>\n",
       "    </tr>\n",
       "    <tr>\n",
       "      <th>1</th>\n",
       "      <td>2021-02-04</td>\n",
       "      <td>FILE PHOTO: Representation of the Ethereum vir...</td>\n",
       "      <td>0.0000</td>\n",
       "      <td>0.000</td>\n",
       "      <td>0.0</td>\n",
       "      <td>1.000</td>\n",
       "      <td>[file, photo, representation, ethereum, virtua...</td>\n",
       "    </tr>\n",
       "    <tr>\n",
       "      <th>2</th>\n",
       "      <td>2021-02-03</td>\n",
       "      <td>By Reuters Staff\\r\\nFILE PHOTO: Representation...</td>\n",
       "      <td>0.0000</td>\n",
       "      <td>0.000</td>\n",
       "      <td>0.0</td>\n",
       "      <td>1.000</td>\n",
       "      <td>[reuters, stafffile, photo, representation, et...</td>\n",
       "    </tr>\n",
       "    <tr>\n",
       "      <th>3</th>\n",
       "      <td>2021-02-04</td>\n",
       "      <td>FILE PHOTO: Representation of the Ethereum vir...</td>\n",
       "      <td>0.0000</td>\n",
       "      <td>0.000</td>\n",
       "      <td>0.0</td>\n",
       "      <td>1.000</td>\n",
       "      <td>[file, photo, representation, ethereum, virtua...</td>\n",
       "    </tr>\n",
       "    <tr>\n",
       "      <th>4</th>\n",
       "      <td>2021-01-05</td>\n",
       "      <td>Cryptocurrencies stole headlines on the first ...</td>\n",
       "      <td>0.3412</td>\n",
       "      <td>0.074</td>\n",
       "      <td>0.0</td>\n",
       "      <td>0.926</td>\n",
       "      <td>[cryptocurrencies, stole, headline, first, sto...</td>\n",
       "    </tr>\n",
       "  </tbody>\n",
       "</table>\n",
       "</div>"
      ],
      "text/plain": [
       "         date                                               text  compound  \\\n",
       "0  2021-01-28  Coinbase plans to go public by way of a direct...    0.0000   \n",
       "1  2021-02-04  FILE PHOTO: Representation of the Ethereum vir...    0.0000   \n",
       "2  2021-02-03  By Reuters Staff\\r\\nFILE PHOTO: Representation...    0.0000   \n",
       "3  2021-02-04  FILE PHOTO: Representation of the Ethereum vir...    0.0000   \n",
       "4  2021-01-05  Cryptocurrencies stole headlines on the first ...    0.3412   \n",
       "\n",
       "   positive  negative  neutral  \\\n",
       "0     0.000       0.0    1.000   \n",
       "1     0.000       0.0    1.000   \n",
       "2     0.000       0.0    1.000   \n",
       "3     0.000       0.0    1.000   \n",
       "4     0.074       0.0    0.926   \n",
       "\n",
       "                                  Ethereum_tokenized  \n",
       "0  [coinbase, plan, go, public, way, direct, list...  \n",
       "1  [file, photo, representation, ethereum, virtua...  \n",
       "2  [reuters, stafffile, photo, representation, et...  \n",
       "3  [file, photo, representation, ethereum, virtua...  \n",
       "4  [cryptocurrencies, stole, headline, first, sto...  "
      ]
     },
     "execution_count": 19,
     "metadata": {},
     "output_type": "execute_result"
    }
   ],
   "source": [
    "# Create a new tokens column for Ethereum\n",
    "Ethereum_df[\"Ethereum_tokenized\"]=  Ethereum_df[\"text\"].apply(tokenizer)  \n",
    "Ethereum_df.head()"
   ]
  },
  {
   "cell_type": "markdown",
   "metadata": {},
   "source": [
    "---"
   ]
  },
  {
   "cell_type": "markdown",
   "metadata": {},
   "source": [
    "### NGrams and Frequency Analysis\n",
    "\n",
    "In this section you will look at the ngrams and word frequency for each coin. \n",
    "\n",
    "1. Use NLTK to produce the n-grams for N = 2. \n",
    "2. List the top 10 words for each coin. "
   ]
  },
  {
   "cell_type": "code",
   "execution_count": 20,
   "metadata": {},
   "outputs": [],
   "source": [
    "from collections import Counter\n",
    "from nltk import ngrams"
   ]
  },
  {
   "cell_type": "code",
   "execution_count": 37,
   "metadata": {},
   "outputs": [
    {
     "name": "stdout",
     "output_type": "stream",
     "text": [
      "['fine', 'print', 'following', 'comment', 'owned', 'whoever', 'posted', 'responsible', 'way']\n"
     ]
    }
   ],
   "source": [
    "# for i in ngrams(Bitcoin_df[\"Bitcoin_tokenized\"], n=2):\n",
    "    print (str(i[0]))"
   ]
  },
  {
   "cell_type": "code",
   "execution_count": 39,
   "metadata": {},
   "outputs": [
    {
     "name": "stdout",
     "output_type": "stream",
     "text": [
      "(['ban', 'reflects', 'twitters', 'failure', 'promote', 'healthy', 'conversationphoto', 'hannah', 'mckaypoolgetty', 'imagestwitter', 'ceo', 'jack', 'dorsey', 'series', 'tweets', 'explained', 'felt', 'banning', 'us', 'president', 'char'], ['mt', 'gox', 'went', 'bankrupt', 'wa', 'world', 'largest', 'bitcoin', 'exchange', 'holding', 'bitcoins', 'thousand', 'user', 'creditor', 'might', 'finally', 'able', 'get', 'portion', 'riche', 'char'])\n",
      "(['mt', 'gox', 'went', 'bankrupt', 'wa', 'world', 'largest', 'bitcoin', 'exchange', 'holding', 'bitcoins', 'thousand', 'user', 'creditor', 'might', 'finally', 'able', 'get', 'portion', 'riche', 'char'], ['cryptocurrency', 'exchange', 'company', 'gemini', 'acquiring', 'blockrize', 'announcing', 'new', 'product', 'today', 'based', 'blockrizes', 'work', 'later', 'year', 'company', 'launching', 'credit', 'card', 'work', 'like', 'char'])\n",
      "(['cryptocurrency', 'exchange', 'company', 'gemini', 'acquiring', 'blockrize', 'announcing', 'new', 'product', 'today', 'based', 'blockrizes', 'work', 'later', 'year', 'company', 'launching', 'credit', 'card', 'work', 'like', 'char'], ['tldr', 'bitcoin', 'cryptocurrency', 'mastery', 'bundle', 'sale', 'jan', 'saving', 'list', 'pricebitcoin', 'blockchain', 'going', 'away', 'anytime', 'soon', 'though', 'market', 'vo', 'char'])\n",
      "(['tldr', 'bitcoin', 'cryptocurrency', 'mastery', 'bundle', 'sale', 'jan', 'saving', 'list', 'pricebitcoin', 'blockchain', 'going', 'away', 'anytime', 'soon', 'though', 'market', 'vo', 'char'], ['man', 'said', 'wa', 'inevitableon', 'friday', 'tesla', 'ceo', 'elon', 'musk', 'changed', 'twitter', 'bio', 'bitcoin', 'alone', 'perhaps', 'wouldnt', 'interesting', 'musk', 'expressed', 'inter', 'char'])\n",
      "(['man', 'said', 'wa', 'inevitableon', 'friday', 'tesla', 'ceo', 'elon', 'musk', 'changed', 'twitter', 'bio', 'bitcoin', 'alone', 'perhaps', 'wouldnt', 'interesting', 'musk', 'expressed', 'inter', 'char'], ['president', 'joe', 'bidens', 'pick', 'new', 'comptroller', 'currency', 'us', 'treasury', 'department', 'michael', 'barr', 'used', 'advisor', 'controversial', 'cryptocurrency', 'company', 'ripple', 'accordi', 'char'])\n",
      "(['president', 'joe', 'bidens', 'pick', 'new', 'comptroller', 'currency', 'us', 'treasury', 'department', 'michael', 'barr', 'used', 'advisor', 'controversial', 'cryptocurrency', 'company', 'ripple', 'accordi', 'char'], ['coinbase', 'ha', 'problem', 'interest', 'bitcoin', 'ha', 'soared', 'along', 'price', 'popular', 'cryptocurrency', 'exchange', 'ha', 'found', 'target', 'growing', 'spate', 'angry', 'customer', 'havent', 'char'])\n",
      "(['coinbase', 'ha', 'problem', 'interest', 'bitcoin', 'ha', 'soared', 'along', 'price', 'popular', 'cryptocurrency', 'exchange', 'ha', 'found', 'target', 'growing', 'spate', 'angry', 'customer', 'havent', 'char'], ['cryptocurrencies', 'thing', 'valuable', 'shared', 'agreement', 'valuable', 'value', 'product', 'digital', 'handshake', 'million', 'transaction', 'char'])\n",
      "(['cryptocurrencies', 'thing', 'valuable', 'shared', 'agreement', 'valuable', 'value', 'product', 'digital', 'handshake', 'million', 'transaction', 'char'], ['india', 'plan', 'introduce', 'law', 'ban', 'private', 'cryptocurrencies', 'bitcoin', 'country', 'provide', 'framework', 'creation', 'official', 'digital', 'currency', 'current', 'budget', 'sessio', 'char'])\n",
      "(['india', 'plan', 'introduce', 'law', 'ban', 'private', 'cryptocurrencies', 'bitcoin', 'country', 'provide', 'framework', 'creation', 'official', 'digital', 'currency', 'current', 'budget', 'sessio', 'char'], ['coinbase', 'plan', 'go', 'public', 'way', 'direct', 'listing', 'company', 'announced', 'blog', 'post', 'todaythe', 'cryptocurrency', 'exchange', 'wa', 'founded', 'allows', 'user', 'buy', 'trade', 'decentralized', 'char'])\n",
      "(['coinbase', 'plan', 'go', 'public', 'way', 'direct', 'listing', 'company', 'announced', 'blog', 'post', 'todaythe', 'cryptocurrency', 'exchange', 'wa', 'founded', 'allows', 'user', 'buy', 'trade', 'decentralized', 'char'], ['poster', 'participatingofficials', 'germany', 'seized', 'digital', 'wallet', 'believed', 'contain', 'million', 'bitcoins', 'obtained', 'fraudulent', 'online', 'activity', 'original', 'owner', 'wallet', 'char'])\n",
      "(['poster', 'participatingofficials', 'germany', 'seized', 'digital', 'wallet', 'believed', 'contain', 'million', 'bitcoins', 'obtained', 'fraudulent', 'online', 'activity', 'original', 'owner', 'wallet', 'char'], ['reuters', 'stafffile', 'photo', 'representations', 'virtual', 'currency', 'bitcoin', 'seen', 'picture', 'illustration', 'taken', 'taken', 'march', 'reutersdado', 'ruvicnew', 'york', 'reuters', 'bitcoin', 'fell', 'sharp', 'char'])\n",
      "(['reuters', 'stafffile', 'photo', 'representations', 'virtual', 'currency', 'bitcoin', 'seen', 'picture', 'illustration', 'taken', 'taken', 'march', 'reutersdado', 'ruvicnew', 'york', 'reuters', 'bitcoin', 'fell', 'sharp', 'char'], ['elon', 'musk', 'love', 'twitter', 'also', 'hate', 'love', 'roughly', 'assessment', 'musks', 'relationship', 'shortform', 'social', 'network', 'based', 'often', 'say', 'enough', 'char'])\n",
      "(['elon', 'musk', 'love', 'twitter', 'also', 'hate', 'love', 'roughly', 'assessment', 'musks', 'relationship', 'shortform', 'social', 'network', 'based', 'often', 'say', 'enough', 'char'], ['least', 'individual', 'group', 'extremist', 'protrump', 'sympathy', 'received', 'roughly', 'bitcoin', 'month', 'violent', 'siege', 'us', 'capitol', 'sought', 'overturn', 'char'])\n",
      "(['least', 'individual', 'group', 'extremist', 'protrump', 'sympathy', 'received', 'roughly', 'bitcoin', 'month', 'violent', 'siege', 'us', 'capitol', 'sought', 'overturn', 'char'], ['weekend', 'trading', 'volume', 'weekday', 'decjan', 'algo', 'trader', 'used', 'bigger', 'investor', 'behind', 'trend', 'thin', 'liquidity', 'weekend', 'amplifies', 'price', 'swingslondon', 'jan', 'reuters', 'char'])\n",
      "(['weekend', 'trading', 'volume', 'weekday', 'decjan', 'algo', 'trader', 'used', 'bigger', 'investor', 'behind', 'trend', 'thin', 'liquidity', 'weekend', 'amplifies', 'price', 'swingslondon', 'jan', 'reuters', 'char'], ['reuters', 'stafffile', 'photo', 'representation', 'virtual', 'currency', 'bitcoin', 'seen', 'illustration', 'taken', 'november', 'reutersdado', 'ruvicillustrationtokyo', 'reuters', 'bitcoin', 'fell', 'char'])\n",
      "(['reuters', 'stafffile', 'photo', 'representation', 'virtual', 'currency', 'bitcoin', 'seen', 'illustration', 'taken', 'november', 'reutersdado', 'ruvicillustrationtokyo', 'reuters', 'bitcoin', 'fell', 'char'], ['reuters', 'stafffile', 'photo', 'representation', 'virtual', 'currency', 'bitcoin', 'seen', 'illustration', 'taken', 'november', 'reutersdado', 'ruvicillustrationtokyo', 'reuters', 'bitcoin', 'fell', 'char'])\n",
      "(['reuters', 'stafffile', 'photo', 'representation', 'virtual', 'currency', 'bitcoin', 'seen', 'illustration', 'taken', 'november', 'reutersdado', 'ruvicillustrationtokyo', 'reuters', 'bitcoin', 'fell', 'char'], ['file', 'photo', 'representation', 'virtual', 'currency', 'bitcoin', 'seen', 'illustration', 'taken', 'november', 'reutersdado', 'ruvicillustrationtokyo', 'reuters', 'bitcoin', 'fell', 'friday', 'char'])\n",
      "(['file', 'photo', 'representation', 'virtual', 'currency', 'bitcoin', 'seen', 'illustration', 'taken', 'november', 'reutersdado', 'ruvicillustrationtokyo', 'reuters', 'bitcoin', 'fell', 'friday', 'char'], ['tldr', 'learn', 'invest', 'bitcoin', 'cryptocurrency', 'crash', 'course', 'sale', 'jan', 'cant', 'jump', 'complex', 'cryptocurrency', 'market', 'blindly', 'take', 'char'])\n",
      "(['tldr', 'learn', 'invest', 'bitcoin', 'cryptocurrency', 'crash', 'course', 'sale', 'jan', 'cant', 'jump', 'complex', 'cryptocurrency', 'market', 'blindly', 'take', 'char'], ['individual', 'stock', 'trader', 'coordinating', 'behavior', 'reddit', 'sent', 'wall', 'street', 'absolute', 'tailspin', 'hedge', 'fund', 'ha', 'gone', 'bankrupt', 'trader', 'made', 'actual', 'millionsusers', 'char'])\n",
      "(['individual', 'stock', 'trader', 'coordinating', 'behavior', 'reddit', 'sent', 'wall', 'street', 'absolute', 'tailspin', 'hedge', 'fund', 'ha', 'gone', 'bankrupt', 'trader', 'made', 'actual', 'millionsusers', 'char'], ['elon', 'musk', 'made', 'triumphant', 'return', 'twitter', 'overnight', 'following', 'announcement', 'early', 'tuesday', 'hed', 'leaving', 'social', 'medium', 'platform', 'whilehow', 'long', 'musk', 'last', 'hour', 'char'])\n",
      "(['elon', 'musk', 'made', 'triumphant', 'return', 'twitter', 'overnight', 'following', 'announcement', 'early', 'tuesday', 'hed', 'leaving', 'social', 'medium', 'platform', 'whilehow', 'long', 'musk', 'last', 'hour', 'char'], ['dollar', 'index', 'highest', 'since', 'jan', 'bitcoin', 'slip', 'new', 'throughout', 'update', 'price', 'market', 'activity', 'comment', 'us', 'market', 'open', 'previous', 'londonnew', 'york', 'jan', 'reuters', 'char'])\n",
      "(['dollar', 'index', 'highest', 'since', 'jan', 'bitcoin', 'slip', 'new', 'throughout', 'update', 'price', 'market', 'activity', 'comment', 'us', 'market', 'open', 'previous', 'londonnew', 'york', 'jan', 'reuters', 'char'], ['telegrams', 'new', 'people', 'nearby', 'feature', 'show', 'list', 'nearby', 'user', 'approximate', 'proximity', 'letting', 'create', 'group', 'chat', 'based', 'geographic', 'location', 'feature', 'turned', 'b', 'char'])\n",
      "(['telegrams', 'new', 'people', 'nearby', 'feature', 'show', 'list', 'nearby', 'user', 'approximate', 'proximity', 'letting', 'create', 'group', 'chat', 'based', 'geographic', 'location', 'feature', 'turned', 'b', 'char'], ['poster', 'participatingthe', 'world', 'cryptocurrency', 'worth', 'trillion', 'bitcoin', 'accounting', 'large', 'majority', 'value', 'price', 'oldest', 'virtual', 'currency', 'ha', 'char'])\n",
      "(['poster', 'participatingthe', 'world', 'cryptocurrency', 'worth', 'trillion', 'bitcoin', 'accounting', 'large', 'majority', 'value', 'price', 'oldest', 'virtual', 'currency', 'ha', 'char'], ['reuters', 'stafflondon', 'reuters', 'digital', 'currency', 'bitcoin', 'ha', 'emerged', 'rival', 'gold', 'could', 'trade', 'high', 'becomes', 'established', 'safehaven', 'asset', 'investment', 'bank', 'jpmor', 'char'])\n",
      "(['reuters', 'stafflondon', 'reuters', 'digital', 'currency', 'bitcoin', 'ha', 'emerged', 'rival', 'gold', 'could', 'trade', 'high', 'becomes', 'established', 'safehaven', 'asset', 'investment', 'bank', 'jpmor', 'char'], ['reuters', 'staffsan', 'francisco', 'reuters', 'billionaire', 'elon', 'musk', 'said', 'monday', 'bitcoin', 'wa', 'verge', 'widely', 'accepted', 'among', 'investor', 'expressed', 'support', 'cryptocurre', 'char'])\n",
      "(['reuters', 'staffsan', 'francisco', 'reuters', 'billionaire', 'elon', 'musk', 'said', 'monday', 'bitcoin', 'wa', 'verge', 'widely', 'accepted', 'among', 'investor', 'expressed', 'support', 'cryptocurre', 'char'], ['february', 'min', 'readthis', 'story', 'originally', 'appeared', 'market', 'beatas', 'technical', 'cryptocurrency', 'bitcoin', 'btc', 'market', 'fundamental', 'driving', 'market', 'include', 'char'])\n",
      "(['february', 'min', 'readthis', 'story', 'originally', 'appeared', 'market', 'beatas', 'technical', 'cryptocurrency', 'bitcoin', 'btc', 'market', 'fundamental', 'driving', 'market', 'include', 'char'], ['february', 'min', 'readdisclosure', 'goal', 'feature', 'product', 'service', 'think', 'youll', 'find', 'interesting', 'useful', 'purchase', 'entrepreneur', 'may', 'get', 'small', 'share', 'char'])\n",
      "(['february', 'min', 'readdisclosure', 'goal', 'feature', 'product', 'service', 'think', 'youll', 'find', 'interesting', 'useful', 'purchase', 'entrepreneur', 'may', 'get', 'small', 'share', 'char'], ['reuters', 'stafffile', 'photo', 'representation', 'virtual', 'currency', 'bitcoin', 'seen', 'front', 'stock', 'graph', 'illustration', 'taken', 'november', 'reutersdado', 'ruvicfile', 'photonew', 'york', 'char'])\n",
      "(['reuters', 'stafffile', 'photo', 'representation', 'virtual', 'currency', 'bitcoin', 'seen', 'front', 'stock', 'graph', 'illustration', 'taken', 'november', 'reutersdado', 'ruvicfile', 'photonew', 'york', 'char'], ['reuters', 'stafflondon', 'reuters', 'digital', 'currency', 'bitcoin', 'ha', 'emerged', 'rival', 'gold', 'could', 'trade', 'high', 'becomes', 'established', 'safehaven', 'asset', 'investment', 'bank', 'jpmor', 'char'])\n",
      "(['reuters', 'stafflondon', 'reuters', 'digital', 'currency', 'bitcoin', 'ha', 'emerged', 'rival', 'gold', 'could', 'trade', 'high', 'becomes', 'established', 'safehaven', 'asset', 'investment', 'bank', 'jpmor', 'char'], ['reuters', 'stafffile', 'photo', 'representation', 'virtual', 'currency', 'bitcoin', 'seen', 'illustration', 'taken', 'november', 'reutersdado', 'ruvicillustrationsingapore', 'reuters', 'cryptocurrencie', 'char'])\n",
      "(['reuters', 'stafffile', 'photo', 'representation', 'virtual', 'currency', 'bitcoin', 'seen', 'illustration', 'taken', 'november', 'reutersdado', 'ruvicillustrationsingapore', 'reuters', 'cryptocurrencie', 'char'], ['frankfurt', 'reuters', 'german', 'prosecutor', 'confiscated', 'million', 'euro', 'million', 'worth', 'bitcoin', 'fraudster', 'theres', 'one', 'problem', 'cant', 'unlock', 'money', 'wo', 'char'])\n",
      "(['frankfurt', 'reuters', 'german', 'prosecutor', 'confiscated', 'million', 'euro', 'million', 'worth', 'bitcoin', 'fraudster', 'theres', 'one', 'problem', 'cant', 'unlock', 'money', 'wo', 'char'], ['shanghaihong', 'kong', 'reuters', 'global', 'chip', 'shortage', 'choking', 'production', 'machine', 'used', 'mine', 'bitcoin', 'sector', 'dominated', 'china', 'sending', 'price', 'computer', 'equipment', 'soaring', 'su', 'char'])\n",
      "(['shanghaihong', 'kong', 'reuters', 'global', 'chip', 'shortage', 'choking', 'production', 'machine', 'used', 'mine', 'bitcoin', 'sector', 'dominated', 'china', 'sending', 'price', 'computer', 'equipment', 'soaring', 'su', 'char'], ['angela', 'langcnetauthorities', 'bavarian', 'town', 'kempton', 'germany', 'pickle', 'possession', 'bitcoin', 'worth', 'roughly', 'million', 'according', 'coinbase', 'bu', 'char'])\n",
      "(['angela', 'langcnetauthorities', 'bavarian', 'town', 'kempton', 'germany', 'pickle', 'possession', 'bitcoin', 'worth', 'roughly', 'million', 'according', 'coinbase', 'bu', 'char'], ['bitcoin', 'continued', 'blistering', 'start', 'crossing', 'first', 'time', 'thursdaythe', 'price', 'traded', 'high', 'according', 'coindesk', 'day', 'much', 'char'])\n",
      "(['bitcoin', 'continued', 'blistering', 'start', 'crossing', 'first', 'time', 'thursdaythe', 'price', 'traded', 'high', 'according', 'coindesk', 'day', 'much', 'char'], ['cryptocurrency', 'miner', 'marathon', 'patent', 'group', 'announced', 'monday', 'purchased', 'million', 'bitcoin', 'cryptocurrency', 'fell', 'historic', 'high', 'company', 'bought', 'btc', 'char'])\n",
      "(['cryptocurrency', 'miner', 'marathon', 'patent', 'group', 'announced', 'monday', 'purchased', 'million', 'bitcoin', 'cryptocurrency', 'fell', 'historic', 'high', 'company', 'bought', 'btc', 'char'], ['reuters', 'stafffile', 'photo', 'representation', 'virtual', 'currency', 'bitcoin', 'small', 'toy', 'figure', 'placed', 'computer', 'motherboard', 'illustration', 'taken', 'january', 'reutersdado', 'ruvicsin', 'char'])\n",
      "(['reuters', 'stafffile', 'photo', 'representation', 'virtual', 'currency', 'bitcoin', 'small', 'toy', 'figure', 'placed', 'computer', 'motherboard', 'illustration', 'taken', 'january', 'reutersdado', 'ruvicsin', 'char'], ['reuters', 'stafffile', 'photo', 'representation', 'virtual', 'currency', 'bitcoin', 'small', 'toy', 'figure', 'placed', 'computer', 'motherboard', 'illustration', 'taken', 'january', 'reutersdado', 'ruvicsin', 'char'])\n",
      "(['reuters', 'stafffile', 'photo', 'representation', 'virtual', 'currency', 'bitcoin', 'small', 'toy', 'figure', 'placed', 'computer', 'motherboard', 'illustration', 'taken', 'january', 'reutersdado', 'ruvicsin', 'char'], ['london', 'reuters', 'breakingviews', 'three', 'year', 'ago', 'column', 'suggested', 'bitcoin', 'whose', 'price', 'soared', 'fold', 'faced', 'total', 'wipeout', 'cryptocurrency', 'wasnt', 'money', 'instead', 'resemb', 'char'])\n",
      "(['london', 'reuters', 'breakingviews', 'three', 'year', 'ago', 'column', 'suggested', 'bitcoin', 'whose', 'price', 'soared', 'fold', 'faced', 'total', 'wipeout', 'cryptocurrency', 'wasnt', 'money', 'instead', 'resemb', 'char'], ['instagram', 'ha', 'banned', 'hundred', 'account', 'tied', 'notorious', 'ogusers', 'forum', 'member', 'buy', 'sell', 'stolen', 'social', 'medium', 'account', 'company', 'also', 'going', 'forum', 'highestprof', 'char'])\n",
      "(['instagram', 'ha', 'banned', 'hundred', 'account', 'tied', 'notorious', 'ogusers', 'forum', 'member', 'buy', 'sell', 'stolen', 'social', 'medium', 'account', 'company', 'also', 'going', 'forum', 'highestprof', 'char'], ['january', 'min', 'readopinions', 'expressed', 'entrepreneur', 'contributor', 'ownbitcoin', 'ha', 'seen', 'incredible', 'price', 'movement', 'last', 'month', 'essentially', 'came', 'bear', 'char'])\n",
      "(['january', 'min', 'readopinions', 'expressed', 'entrepreneur', 'contributor', 'ownbitcoin', 'ha', 'seen', 'incredible', 'price', 'movement', 'last', 'month', 'essentially', 'came', 'bear', 'char'], ['usd', 'extends', 'rebound', 'near', 'year', 'low', 'bitcoin', 'fall', 'face', 'biggest', 'oneday', 'drop', 'since', 'march', 'new', 'throughout', 'update', 'price', 'market', 'activity', 'comment', 'us', 'market', 'open', 'previous', 'londo', 'char'])\n",
      "(['usd', 'extends', 'rebound', 'near', 'year', 'low', 'bitcoin', 'fall', 'face', 'biggest', 'oneday', 'drop', 'since', 'march', 'new', 'throughout', 'update', 'price', 'market', 'activity', 'comment', 'us', 'market', 'open', 'previous', 'londo', 'char'], ['reuters', 'anthony', 'scaramuccis', 'firm', 'skybridge', 'capital', 'latest', 'traditional', 'fund', 'manager', 'launch', 'bitcoinfocused', 'fund', 'surge', 'interest', 'cryptocurrencies', 'scaramucci', 'char'])\n",
      "(['reuters', 'anthony', 'scaramuccis', 'firm', 'skybridge', 'capital', 'latest', 'traditional', 'fund', 'manager', 'launch', 'bitcoinfocused', 'fund', 'surge', 'interest', 'cryptocurrencies', 'scaramucci', 'char'], ['file', 'photo', 'representations', 'virtual', 'currency', 'bitcoin', 'placed', 'us', 'dollar', 'banknote', 'illustration', 'taken', 'may', 'reutersdado', 'ruvicillustrationlondon', 'reuters', 'bitcoin', 'slumpe', 'char'])\n",
      "(['file', 'photo', 'representations', 'virtual', 'currency', 'bitcoin', 'placed', 'us', 'dollar', 'banknote', 'illustration', 'taken', 'may', 'reutersdado', 'ruvicillustrationlondon', 'reuters', 'bitcoin', 'slumpe', 'char'], ['posted', 'thomson', 'reuters', 'stocks', 'buzz', 'analyst', 'terence', 'gabriel', 'tell', 'reuters', 'fred', 'katayama', 'see', 'correlation', 'movement', 'bitcoin', 'us', 'equity'])\n",
      "(['posted', 'thomson', 'reuters', 'stocks', 'buzz', 'analyst', 'terence', 'gabriel', 'tell', 'reuters', 'fred', 'katayama', 'see', 'correlation', 'movement', 'bitcoin', 'us', 'equity'], ['file', 'photo', 'representation', 'virtual', 'currency', 'bitcoin', 'seen', 'front', 'stock', 'graph', 'illustration', 'taken', 'january', 'reutersdado', 'ruviclondon', 'reuters', 'bitcoin', 'jumped', 'much', 'char'])\n",
      "(['file', 'photo', 'representation', 'virtual', 'currency', 'bitcoin', 'seen', 'front', 'stock', 'graph', 'illustration', 'taken', 'january', 'reutersdado', 'ruviclondon', 'reuters', 'bitcoin', 'jumped', 'much', 'char'], ['posted', 'bitcoin', 'jumped', 'much', 'friday', 'twoweek', 'high', 'tesla', 'chief', 'elon', 'musk', 'tagged', 'cryptocurrency', 'twitter', 'biography', 'fred', 'katayama', 'report'])\n",
      "(['posted', 'bitcoin', 'jumped', 'much', 'friday', 'twoweek', 'high', 'tesla', 'chief', 'elon', 'musk', 'tagged', 'cryptocurrency', 'twitter', 'biography', 'fred', 'katayama', 'report'], ['reuters', 'stafflondon', 'jan', 'reuters', 'bitcoin', 'jumped', 'much', 'friday', 'touching', 'highest', 'day', 'trader', 'citing', 'move', 'tesla', 'inc', 'chief', 'elon', 'musk', 'tagging', 'cryptocurre', 'char'])\n",
      "(['reuters', 'stafflondon', 'jan', 'reuters', 'bitcoin', 'jumped', 'much', 'friday', 'touching', 'highest', 'day', 'trader', 'citing', 'move', 'tesla', 'inc', 'chief', 'elon', 'musk', 'tagging', 'cryptocurre', 'char'], ['reuters', 'stafffile', 'photo', 'representations', 'virtual', 'currency', 'bitcoin', 'seen', 'picture', 'illustration', 'taken', 'taken', 'march', 'reutersdado', 'ruvicillustrationreuters', 'software', 'devel', 'char'])\n",
      "(['reuters', 'stafffile', 'photo', 'representations', 'virtual', 'currency', 'bitcoin', 'seen', 'picture', 'illustration', 'taken', 'taken', 'march', 'reutersdado', 'ruvicillustrationreuters', 'software', 'devel', 'char'], ['new', 'york', 'reuters', 'bitcoin', 'topped', 'first', 'time', 'thursday', 'continues', 'rally', 'ha', 'seen', 'digital', 'currency', 'climb', 'march', 'closing', 'lowfile', 'photo', 'char'])\n",
      "(['new', 'york', 'reuters', 'bitcoin', 'topped', 'first', 'time', 'thursday', 'continues', 'rally', 'ha', 'seen', 'digital', 'currency', 'climb', 'march', 'closing', 'lowfile', 'photo', 'char'], ['write', 'elon', 'musk', 'ha', 'joined', 'clubhouse', 'first', 'ever', 'inperson', 'session', 'boundary', 'app', 'already', 'tested', 'people', 'room', 'session', 'char'])\n",
      "(['write', 'elon', 'musk', 'ha', 'joined', 'clubhouse', 'first', 'ever', 'inperson', 'session', 'boundary', 'app', 'already', 'tested', 'people', 'room', 'session', 'char'], ['london', 'reuters', 'bitcoin', 'seems', 'flighty', 'might', 'argue', 'may', 'well', 'consult', 'crystal', 'ball', 'read', 'rune', 'stare', 'star', 'divine', 'direction', 'capricious', 'cryptocurrencye', 'char'])\n",
      "(['london', 'reuters', 'bitcoin', 'seems', 'flighty', 'might', 'argue', 'may', 'well', 'consult', 'crystal', 'ball', 'read', 'rune', 'stare', 'star', 'divine', 'direction', 'capricious', 'cryptocurrencye', 'char'], ['reuters', 'stafffile', 'photo', 'representations', 'virtual', 'currency', 'bitcoin', 'seen', 'picture', 'illustration', 'taken', 'taken', 'march', 'reutersdado', 'ruvicillustrationfile', 'photoreuters', 'th', 'char'])\n",
      "(['reuters', 'stafffile', 'photo', 'representations', 'virtual', 'currency', 'bitcoin', 'seen', 'picture', 'illustration', 'taken', 'taken', 'march', 'reutersdado', 'ruvicillustrationfile', 'photoreuters', 'th', 'char'], ['reuters', 'stafffile', 'photo', 'sign', 'blackrock', 'inc', 'hang', 'building', 'new', 'york', 'us', 'july', 'reuterslucas', 'jacksonreuters', 'blackrock', 'inc', 'adding', 'bitcoin', 'future', 'eli', 'char'])\n",
      "(['reuters', 'stafffile', 'photo', 'sign', 'blackrock', 'inc', 'hang', 'building', 'new', 'york', 'us', 'july', 'reuterslucas', 'jacksonreuters', 'blackrock', 'inc', 'adding', 'bitcoin', 'future', 'eli', 'char'], ['reuters', 'stafffile', 'photo', 'representations', 'virtual', 'currency', 'bitcoin', 'seen', 'picture', 'illustration', 'taken', 'taken', 'march', 'reutersdado', 'ruvicillustrationreuters', 'total', 'mark', 'char'])\n",
      "(['reuters', 'stafffile', 'photo', 'representations', 'virtual', 'currency', 'bitcoin', 'seen', 'picture', 'illustration', 'taken', 'taken', 'march', 'reutersdado', 'ruvicillustrationreuters', 'total', 'mark', 'char'], ['reuters', 'stafffile', 'photo', 'representations', 'virtual', 'currency', 'bitcoin', 'placed', 'us', 'dollar', 'banknote', 'illustration', 'taken', 'may', 'reutersdado', 'ruvicillustrationfile', 'photoreu', 'char'])\n",
      "(['reuters', 'stafffile', 'photo', 'representations', 'virtual', 'currency', 'bitcoin', 'placed', 'us', 'dollar', 'banknote', 'illustration', 'taken', 'may', 'reutersdado', 'ruvicillustrationfile', 'photoreu', 'char'], ['reuters', 'stafffile', 'photo', 'sign', 'blackrock', 'inc', 'hang', 'building', 'new', 'york', 'us', 'july', 'reuterslucas', 'jacksonreuters', 'blackrock', 'inc', 'adding', 'bitcoin', 'future', 'eli', 'char'])\n",
      "(['reuters', 'stafffile', 'photo', 'sign', 'blackrock', 'inc', 'hang', 'building', 'new', 'york', 'us', 'july', 'reuterslucas', 'jacksonreuters', 'blackrock', 'inc', 'adding', 'bitcoin', 'future', 'eli', 'char'], ['reuters', 'stafffile', 'photo', 'representation', 'virtual', 'currency', 'bitcoin', 'seen', 'front', 'stock', 'graph', 'illustration', 'taken', 'november', 'reutersdado', 'ruvicfile', 'photosingapore', 'char'])\n",
      "(['reuters', 'stafffile', 'photo', 'representation', 'virtual', 'currency', 'bitcoin', 'seen', 'front', 'stock', 'graph', 'illustration', 'taken', 'november', 'reutersdado', 'ruvicfile', 'photosingapore', 'char'], ['reuters', 'stafffile', 'photo', 'representation', 'virtual', 'currency', 'bitcoin', 'seen', 'illustration', 'taken', 'november', 'reutersdado', 'ruvicillustrationfile', 'photolondon', 'reuters', 'bitcoin', 'char'])\n",
      "(['reuters', 'stafffile', 'photo', 'representation', 'virtual', 'currency', 'bitcoin', 'seen', 'illustration', 'taken', 'november', 'reutersdado', 'ruvicillustrationfile', 'photolondon', 'reuters', 'bitcoin', 'char'], ['prior', 'experience', 'paid', 'one', 'currency', 'paying', 'income', 'tax', 'another', 'hassle', 'documenting', 'exchange', 'rate', 'calculating', 'much', 'income', 'wa', 'taxable', 'currency', 'char'])\n",
      "(['prior', 'experience', 'paid', 'one', 'currency', 'paying', 'income', 'tax', 'another', 'hassle', 'documenting', 'exchange', 'rate', 'calculating', 'much', 'income', 'wa', 'taxable', 'currency', 'char'], ['representation', 'virtual', 'currency', 'bitcoin', 'seen', 'front', 'stock', 'graph', 'illustration', 'taken', 'november', 'reutersdado', 'ruvicillustrationnew', 'york', 'reuters', 'breakingviews', 'bitcoi', 'char'])\n",
      "(['representation', 'virtual', 'currency', 'bitcoin', 'seen', 'front', 'stock', 'graph', 'illustration', 'taken', 'november', 'reutersdado', 'ruvicillustrationnew', 'york', 'reuters', 'breakingviews', 'bitcoi', 'char'], ['reuters', 'stafffile', 'photo', 'representations', 'virtual', 'currency', 'bitcoin', 'seen', 'picture', 'illustration', 'taken', 'taken', 'march', 'reutersdado', 'ruvicshanghai', 'reuters', 'bitcoin', 'traded', 'abo', 'char'])\n",
      "(['reuters', 'stafffile', 'photo', 'representations', 'virtual', 'currency', 'bitcoin', 'seen', 'picture', 'illustration', 'taken', 'taken', 'march', 'reutersdado', 'ruvicshanghai', 'reuters', 'bitcoin', 'traded', 'abo', 'char'], ['january', 'min', 'readopinions', 'expressed', 'entrepreneur', 'contributor', 'ownfor', 'blockchain', 'sector', 'wa', 'year', 'decentralized', 'finance', 'rest', 'world', 'wa', 'gr', 'char'])\n",
      "(['january', 'min', 'readopinions', 'expressed', 'entrepreneur', 'contributor', 'ownfor', 'blockchain', 'sector', 'wa', 'year', 'decentralized', 'finance', 'rest', 'world', 'wa', 'gr', 'char'], ['january', 'min', 'readthis', 'article', 'wa', 'translated', 'spanish', 'edition', 'using', 'ai', 'technology', 'errors', 'may', 'exist', 'due', 'processthe', 'vertiginous', 'rise', 'price', 'bitcoin', 'experi', 'char'])\n",
      "(['january', 'min', 'readthis', 'article', 'wa', 'translated', 'spanish', 'edition', 'using', 'ai', 'technology', 'errors', 'may', 'exist', 'due', 'processthe', 'vertiginous', 'rise', 'price', 'bitcoin', 'experi', 'char'], ['january', 'min', 'readthis', 'article', 'wa', 'translated', 'spanish', 'edition', 'using', 'ai', 'technology', 'errors', 'may', 'exist', 'due', 'processfor', 'several', 'week', 'price', 'bitcoin', 'ha', 'char'])\n",
      "(['january', 'min', 'readthis', 'article', 'wa', 'translated', 'spanish', 'edition', 'using', 'ai', 'technology', 'errors', 'may', 'exist', 'due', 'processfor', 'several', 'week', 'price', 'bitcoin', 'ha', 'char'], ['reuters', 'stafffile', 'photo', 'representations', 'virtual', 'currency', 'bitcoin', 'seen', 'picture', 'illustration', 'taken', 'taken', 'march', 'reutersdado', 'ruvicshanghai', 'reuters', 'bitcoin', 'traded', 'abo', 'char'])\n",
      "(['reuters', 'stafffile', 'photo', 'representations', 'virtual', 'currency', 'bitcoin', 'seen', 'picture', 'illustration', 'taken', 'taken', 'march', 'reutersdado', 'ruvicshanghai', 'reuters', 'bitcoin', 'traded', 'abo', 'char'], ['reuters', 'stafffile', 'photo', 'bank', 'america', 'logo', 'pictured', 'manhattan', 'borough', 'new', 'york', 'city', 'new', 'york', 'us', 'january', 'reuterscarlo', 'allegrilondon', 'reuters', 'bofa', 'recommende', 'char'])\n",
      "(['reuters', 'stafffile', 'photo', 'bank', 'america', 'logo', 'pictured', 'manhattan', 'borough', 'new', 'york', 'city', 'new', 'york', 'us', 'january', 'reuterscarlo', 'allegrilondon', 'reuters', 'bofa', 'recommende', 'char'], ['new', 'york', 'reuters', 'investment', 'flow', 'cryptocurrency', 'fund', 'product', 'hit', 'record', 'billion', 'last', 'week', 'week', 'small', 'outflow', 'investor', 'took', 'advantage', 'decline', 'bi', 'char'])\n",
      "(['new', 'york', 'reuters', 'investment', 'flow', 'cryptocurrency', 'fund', 'product', 'hit', 'record', 'billion', 'last', 'week', 'week', 'small', 'outflow', 'investor', 'took', 'advantage', 'decline', 'bi', 'char'], ['london', 'reuters', 'bitcoin', 'doesnt', 'sleepfile', 'photo', 'representation', 'virtual', 'currency', 'bitcoin', 'us', 'one', 'dollar', 'banknote', 'seen', 'front', 'stock', 'graph', 'illustration', 'taken', 'january', 'char'])\n",
      "(['london', 'reuters', 'bitcoin', 'doesnt', 'sleepfile', 'photo', 'representation', 'virtual', 'currency', 'bitcoin', 'us', 'one', 'dollar', 'banknote', 'seen', 'front', 'stock', 'graph', 'illustration', 'taken', 'january', 'char'], ['record', 'billion', 'worth', 'bitcoin', 'option', 'set', 'expire', 'january', 'speculation', 'ramp', 'following', 'recent', 'volatility', 'cryptocurrencys', 'price', 'growth', 'interest', 'der', 'char'])\n",
      "(['record', 'billion', 'worth', 'bitcoin', 'option', 'set', 'expire', 'january', 'speculation', 'ramp', 'following', 'recent', 'volatility', 'cryptocurrencys', 'price', 'growth', 'interest', 'der', 'char'], ['dizzying', 'month', 'bradley', 'duke', 'chief', 'executive', 'etc', 'group', 'ha', 'seen', 'company', 'bitcoin', 'exchange', 'traded', 'crypto', 'product', 'surge', 'value', 'around', 'month', 'interest', 'char'])\n",
      "(['dizzying', 'month', 'bradley', 'duke', 'chief', 'executive', 'etc', 'group', 'ha', 'seen', 'company', 'bitcoin', 'exchange', 'traded', 'crypto', 'product', 'surge', 'value', 'around', 'month', 'interest', 'char'], ['customers', 'talk', 'backboard', 'sign', 'cryptocurrency', 'taipei', 'international', 'finance', 'expo', 'taipei', 'taiwan', 'november', 'reutersann', 'wangfilesmumbai', 'reuters', 'india', 'pl', 'char'])\n",
      "(['customers', 'talk', 'backboard', 'sign', 'cryptocurrency', 'taipei', 'international', 'finance', 'expo', 'taipei', 'taiwan', 'november', 'reutersann', 'wangfilesmumbai', 'reuters', 'india', 'pl', 'char'], ['london', 'jan', 'reuters', 'candidate', 'bank', 'englands', 'supervisory', 'arm', 'bank', 'defended', 'wednesday', 'senior', 'role', 'bitcoin', 'trading', 'platform', 'saying', 'took', 'safeguard', 'money', 'char'])\n",
      "(['london', 'jan', 'reuters', 'candidate', 'bank', 'englands', 'supervisory', 'arm', 'bank', 'defended', 'wednesday', 'senior', 'role', 'bitcoin', 'trading', 'platform', 'saying', 'took', 'safeguard', 'money', 'char'], ['new', 'york', 'jan', 'reuters', 'jeffrey', 'gundlach', 'billionaire', 'chief', 'executive', 'investment', 'firm', 'doubleline', 'capital', 'said', 'tuesday', 'bullish', 'asian', 'emerging', 'market', 'stock', 'neutral', 'bitc', 'char'])\n",
      "(['new', 'york', 'jan', 'reuters', 'jeffrey', 'gundlach', 'billionaire', 'chief', 'executive', 'investment', 'firm', 'doubleline', 'capital', 'said', 'tuesday', 'bullish', 'asian', 'emerging', 'market', 'stock', 'neutral', 'bitc', 'char'], ['reuters', 'staffreuters', 'payments', 'bitcoin', 'worth', 'made', 'different', 'virtual', 'wallet', 'belonging', 'farright', 'activist', 'internet', 'personality', 'char'])\n",
      "(['reuters', 'staffreuters', 'payments', 'bitcoin', 'worth', 'made', 'different', 'virtual', 'wallet', 'belonging', 'farright', 'activist', 'internet', 'personality', 'char'], ['file', 'photo', 'jeffrey', 'gundlachceo', 'doubleline', 'capital', 'lp', 'present', 'sohn', 'investment', 'conference', 'new', 'york', 'city', 'us', 'may', 'reutersbrendan', 'mcdermidnew', 'york', 'reuters', 'jef', 'char'])\n",
      "(['file', 'photo', 'jeffrey', 'gundlachceo', 'doubleline', 'capital', 'lp', 'present', 'sohn', 'investment', 'conference', 'new', 'york', 'city', 'us', 'may', 'reutersbrendan', 'mcdermidnew', 'york', 'reuters', 'jef', 'char'], ['reuters', 'stafffrankfurt', 'reuters', 'european', 'central', 'bank', 'president', 'christine', 'lagarde', 'called', 'wednesday', 'global', 'regulation', 'bitcoin', 'saying', 'digital', 'currency', 'used', 'money', 'lau', 'char'])\n",
      "(['reuters', 'stafffrankfurt', 'reuters', 'european', 'central', 'bank', 'president', 'christine', 'lagarde', 'called', 'wednesday', 'global', 'regulation', 'bitcoin', 'saying', 'digital', 'currency', 'used', 'money', 'lau', 'char'], ['london', 'reuters', 'candidate', 'bank', 'englands', 'supervisory', 'arm', 'bank', 'defended', 'wednesday', 'senior', 'role', 'bitcoin', 'trading', 'platform', 'saying', 'took', 'safeguard', 'moneylaunderi', 'char'])\n",
      "(['london', 'reuters', 'candidate', 'bank', 'englands', 'supervisory', 'arm', 'bank', 'defended', 'wednesday', 'senior', 'role', 'bitcoin', 'trading', 'platform', 'saying', 'took', 'safeguard', 'moneylaunderi', 'char'], ['reuters', 'stafffile', 'photo', 'representation', 'virtual', 'currency', 'bitcoin', 'seen', 'front', 'stock', 'graph', 'illustration', 'taken', 'november', 'reutersdado', 'ruviclondon', 'reuters', 'lon', 'char'])\n",
      "(['reuters', 'stafffile', 'photo', 'representation', 'virtual', 'currency', 'bitcoin', 'seen', 'front', 'stock', 'graph', 'illustration', 'taken', 'november', 'reutersdado', 'ruviclondon', 'reuters', 'lon', 'char'], ['reuters', 'staffadds', 'comment', 'musk', 'robinhood', 'ceo', 'backgroundsan', 'francisco', 'feb', 'reuters', 'billionaire', 'elon', 'musk', 'said', 'monday', 'bitcoin', 'wa', 'verge', 'widely', 'accepted', 'char'])\n",
      "(['reuters', 'staffadds', 'comment', 'musk', 'robinhood', 'ceo', 'backgroundsan', 'francisco', 'feb', 'reuters', 'billionaire', 'elon', 'musk', 'said', 'monday', 'bitcoin', 'wa', 'verge', 'widely', 'accepted', 'char'], ['reuters', 'stafflondon', 'reuters', 'nearly', 'respondent', 'deutsche', 'banks', 'monthly', 'investor', 'survey', 'said', 'financial', 'market', 'number', 'price', 'bubble', 'cryptocurrency', 'bitcoin', 'us', 'char'])\n",
      "(['reuters', 'stafflondon', 'reuters', 'nearly', 'respondent', 'deutsche', 'banks', 'monthly', 'investor', 'survey', 'said', 'financial', 'market', 'number', 'price', 'bubble', 'cryptocurrency', 'bitcoin', 'us', 'char'], ['cryptocurrencies', 'may', 'see', 'boost', 'china', 'us', 'american', 'president', 'donald', 'trump', 'ha', 'signed', 'executive', 'order', 'banning', 'financial', 'transaction', 'eight', 'chinabased', 'payment', 'applica', 'char'])\n",
      "(['cryptocurrencies', 'may', 'see', 'boost', 'china', 'us', 'american', 'president', 'donald', 'trump', 'ha', 'signed', 'executive', 'order', 'banning', 'financial', 'transaction', 'eight', 'chinabased', 'payment', 'applica', 'char'], ['market', 'capitalization', 'value', 'cryptocurrency', 'market', 'wa', 'billion', 'et', 'trillion', 'day', 'earlier', 'according', 'coinmarketcap', 'bitcoin', 'largest', 'cryptocurren', 'char'])\n",
      "(['market', 'capitalization', 'value', 'cryptocurrency', 'market', 'wa', 'billion', 'et', 'trillion', 'day', 'earlier', 'according', 'coinmarketcap', 'bitcoin', 'largest', 'cryptocurren', 'char'], ['reuters', 'stafffile', 'photo', 'representations', 'virtual', 'currency', 'bitcoin', 'seen', 'picture', 'illustration', 'taken', 'taken', 'march', 'reutersdado', 'ruviclondon', 'reuters', 'trading', 'volume', 'char'])\n",
      "(['reuters', 'stafffile', 'photo', 'representations', 'virtual', 'currency', 'bitcoin', 'seen', 'picture', 'illustration', 'taken', 'taken', 'march', 'reutersdado', 'ruviclondon', 'reuters', 'trading', 'volume', 'char'], ['reuters', 'stafffile', 'photo', 'representations', 'virtual', 'currency', 'bitcoin', 'seen', 'picture', 'illustration', 'taken', 'taken', 'march', 'reutersdado', 'ruviclondon', 'reuters', 'trading', 'volume', 'char'])\n",
      "(['reuters', 'stafffile', 'photo', 'representations', 'virtual', 'currency', 'bitcoin', 'seen', 'picture', 'illustration', 'taken', 'taken', 'march', 'reutersdado', 'ruviclondon', 'reuters', 'trading', 'volume', 'char'], ['january', 'min', 'readthis', 'story', 'originally', 'appeared', 'business', 'insiderthe', 'cryptocurrency', 'market', 'worth', 'trillion', 'first', 'time', 'ever', 'price', 'bitcoin', 'surged', 'char'])\n",
      "(['january', 'min', 'readthis', 'story', 'originally', 'appeared', 'business', 'insiderthe', 'cryptocurrency', 'market', 'worth', 'trillion', 'first', 'time', 'ever', 'price', 'bitcoin', 'surged', 'char'], ['cryptocurrencies', 'stole', 'headline', 'first', 'stockmarket', 'trading', 'day', 'bitcoin', 'ethereum', 'selling', 'steeply', 'blistering', 'runup', 'weekendbut', 'investor', 'need', 'worry', 'char'])\n",
      "(['cryptocurrencies', 'stole', 'headline', 'first', 'stockmarket', 'trading', 'day', 'bitcoin', 'ethereum', 'selling', 'steeply', 'blistering', 'runup', 'weekendbut', 'investor', 'need', 'worry', 'char'], ['reuters', 'stafffile', 'photo', 'representation', 'virtual', 'currency', 'bitcoin', 'seen', 'front', 'stock', 'graph', 'illustration', 'taken', 'november', 'reutersdado', 'ruvicillustrationfile', 'photo', 'char'])\n",
      "(['reuters', 'stafffile', 'photo', 'representation', 'virtual', 'currency', 'bitcoin', 'seen', 'front', 'stock', 'graph', 'illustration', 'taken', 'november', 'reutersdado', 'ruvicillustrationfile', 'photo', 'char'], ['reuters', 'stafffile', 'photo', 'representation', 'ethereum', 'virtual', 'currency', 'standing', 'pc', 'motherboard', 'seen', 'illustration', 'picture', 'february', 'reutersdado', 'ruvicillustrationfi', 'char'])\n",
      "(['reuters', 'stafffile', 'photo', 'representation', 'ethereum', 'virtual', 'currency', 'standing', 'pc', 'motherboard', 'seen', 'illustration', 'picture', 'february', 'reutersdado', 'ruvicillustrationfi', 'char'], ['fine', 'print', 'following', 'comment', 'owned', 'whoever', 'posted', 'responsible', 'way'])\n",
      "(['fine', 'print', 'following', 'comment', 'owned', 'whoever', 'posted', 'responsible', 'way'], ['password', 'let', 'unlock', 'small', 'hard', 'drive', 'known', 'ironkey', 'contains', 'private', 'key', 'digital', 'wallet', 'hold', 'bitcoin', 'price', 'bitcoin', 'dropped', 'sharply', 'char'])\n",
      "(['password', 'let', 'unlock', 'small', 'hard', 'drive', 'known', 'ironkey', 'contains', 'private', 'key', 'digital', 'wallet', 'hold', 'bitcoin', 'price', 'bitcoin', 'dropped', 'sharply', 'char'], ['bitcoin', 'bear', 'wednesday', 'pushing', 'cryptocurrency', 'first', 'time', 'since', 'january', 'soon', 'fall', 'bull', 'pushed', 'token', 'back', 'battle', 'char'])\n",
      "(['bitcoin', 'bear', 'wednesday', 'pushing', 'cryptocurrency', 'first', 'time', 'since', 'january', 'soon', 'fall', 'bull', 'pushed', 'token', 'back', 'battle', 'char'], ['fine', 'print', 'following', 'comment', 'owned', 'whoever', 'posted', 'responsible', 'way'])\n",
      "(['fine', 'print', 'following', 'comment', 'owned', 'whoever', 'posted', 'responsible', 'way'], ['new', 'york', 'reuters', 'losses', 'cryptocurrency', 'theft', 'hack', 'fraud', 'fell', 'last', 'year', 'billion', 'market', 'participant', 'boosted', 'security', 'system', 'crime', 'decentralized', 'finance', 'spa', 'char'])\n"
     ]
    }
   ],
   "source": [
    "# Generate the Bitcoin N-grams where N=2\n",
    "bigrams_Bitcoin = ngrams(Bitcoin_df[\"Bitcoin_tokenized\"], n=2)\n",
    "for i in bigrams_Bitcoin:\n",
    "    print(i)\n"
   ]
  },
  {
   "cell_type": "code",
   "execution_count": 17,
   "metadata": {},
   "outputs": [],
   "source": [
    "# Generate the Ethereum N-grams where N=2\n",
    "bigrams_Ethereum"
   ]
  },
  {
   "cell_type": "code",
   "execution_count": 18,
   "metadata": {},
   "outputs": [],
   "source": [
    "# Function token_count generates the top 10 words for a given coin\n",
    "def token_count(tokens, N=3):\n",
    "    \"\"\"Returns the top N tokens from the frequency count\"\"\"\n",
    "    return Counter(tokens).most_common(N)"
   ]
  },
  {
   "cell_type": "code",
   "execution_count": 19,
   "metadata": {},
   "outputs": [],
   "source": [
    "# Use token_count to get the top 10 words for Bitcoin\n",
    "# YOUR CODE HERE!"
   ]
  },
  {
   "cell_type": "code",
   "execution_count": 20,
   "metadata": {},
   "outputs": [],
   "source": [
    "# Use token_count to get the top 10 words for Ethereum\n",
    "# YOUR CODE HERE!"
   ]
  },
  {
   "cell_type": "markdown",
   "metadata": {},
   "source": [
    "---"
   ]
  },
  {
   "cell_type": "markdown",
   "metadata": {},
   "source": [
    "### Word Clouds\n",
    "\n",
    "In this section, you will generate word clouds for each coin to summarize the news for each coin"
   ]
  },
  {
   "cell_type": "code",
   "execution_count": 21,
   "metadata": {},
   "outputs": [],
   "source": [
    "from wordcloud import WordCloud\n",
    "import matplotlib.pyplot as plt\n",
    "plt.style.use('seaborn-whitegrid')\n",
    "import matplotlib as mpl\n",
    "mpl.rcParams['figure.figsize'] = [20.0, 10.0]"
   ]
  },
  {
   "cell_type": "code",
   "execution_count": 22,
   "metadata": {},
   "outputs": [],
   "source": [
    "# Generate the Bitcoin word cloud\n",
    "# YOUR CODE HERE!"
   ]
  },
  {
   "cell_type": "code",
   "execution_count": 23,
   "metadata": {},
   "outputs": [],
   "source": [
    "# Generate the Ethereum word cloud\n",
    "# YOUR CODE HERE!"
   ]
  },
  {
   "cell_type": "markdown",
   "metadata": {},
   "source": [
    "---\n",
    "## 3. Named Entity Recognition\n",
    "\n",
    "In this section, you will build a named entity recognition model for both Bitcoin and Ethereum, then visualize the tags using SpaCy."
   ]
  },
  {
   "cell_type": "code",
   "execution_count": 24,
   "metadata": {},
   "outputs": [],
   "source": [
    "import spacy\n",
    "from spacy import displacy"
   ]
  },
  {
   "cell_type": "code",
   "execution_count": 25,
   "metadata": {},
   "outputs": [],
   "source": [
    "# Download the language model for SpaCy\n",
    "# !python -m spacy download en_core_web_sm"
   ]
  },
  {
   "cell_type": "code",
   "execution_count": 26,
   "metadata": {},
   "outputs": [],
   "source": [
    "# Load the spaCy model\n",
    "nlp = spacy.load('en_core_web_sm')"
   ]
  },
  {
   "cell_type": "markdown",
   "metadata": {},
   "source": [
    "---\n",
    "### Bitcoin NER"
   ]
  },
  {
   "cell_type": "code",
   "execution_count": 27,
   "metadata": {},
   "outputs": [],
   "source": [
    "# Concatenate all of the Bitcoin text together\n",
    "# YOUR CODE HERE!"
   ]
  },
  {
   "cell_type": "code",
   "execution_count": 28,
   "metadata": {},
   "outputs": [],
   "source": [
    "# Run the NER processor on all of the text\n",
    "# YOUR CODE HERE!\n",
    "\n",
    "# Add a title to the document\n",
    "# YOUR CODE HERE!"
   ]
  },
  {
   "cell_type": "code",
   "execution_count": 29,
   "metadata": {},
   "outputs": [],
   "source": [
    "# Render the visualization\n",
    "# YOUR CODE HERE!"
   ]
  },
  {
   "cell_type": "code",
   "execution_count": 30,
   "metadata": {},
   "outputs": [],
   "source": [
    "# List all Entities\n",
    "# YOUR CODE HERE!"
   ]
  },
  {
   "cell_type": "markdown",
   "metadata": {},
   "source": [
    "---"
   ]
  },
  {
   "cell_type": "markdown",
   "metadata": {},
   "source": [
    "### Ethereum NER"
   ]
  },
  {
   "cell_type": "code",
   "execution_count": 31,
   "metadata": {},
   "outputs": [],
   "source": [
    "# Concatenate all of the Ethereum text together\n",
    "# YOUR CODE HERE!"
   ]
  },
  {
   "cell_type": "code",
   "execution_count": 32,
   "metadata": {},
   "outputs": [],
   "source": [
    "# Run the NER processor on all of the text\n",
    "# YOUR CODE HERE!\n",
    "\n",
    "# Add a title to the document\n",
    "# YOUR CODE HERE!"
   ]
  },
  {
   "cell_type": "code",
   "execution_count": 33,
   "metadata": {},
   "outputs": [],
   "source": [
    "# Render the visualization\n",
    "# YOUR CODE HERE!"
   ]
  },
  {
   "cell_type": "code",
   "execution_count": 34,
   "metadata": {},
   "outputs": [],
   "source": [
    "# List all Entities\n",
    "# YOUR CODE HERE!"
   ]
  },
  {
   "cell_type": "markdown",
   "metadata": {},
   "source": [
    "---"
   ]
  }
 ],
 "metadata": {
  "file_extension": ".py",
  "kernelspec": {
   "display_name": "Python [conda env:quantenv] *",
   "language": "python",
   "name": "conda-env-quantenv-py"
  },
  "language_info": {
   "codemirror_mode": {
    "name": "ipython",
    "version": 3
   },
   "file_extension": ".py",
   "mimetype": "text/x-python",
   "name": "python",
   "nbconvert_exporter": "python",
   "pygments_lexer": "ipython3",
   "version": "3.6.8"
  },
  "mimetype": "text/x-python",
  "name": "python",
  "npconvert_exporter": "python",
  "pygments_lexer": "ipython3",
  "version": 3
 },
 "nbformat": 4,
 "nbformat_minor": 4
}
