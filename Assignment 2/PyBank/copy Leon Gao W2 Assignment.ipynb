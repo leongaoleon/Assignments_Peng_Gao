{
 "cells": [
  {
   "cell_type": "code",
   "execution_count": 26,
   "metadata": {},
   "outputs": [
    {
     "name": "stdout",
     "output_type": "stream",
     "text": [
      "Financial Analysis\n",
      "-------------------------------\n",
      "Total Months: 86\n",
      "Total: $38382578\n",
      "Average Change: $-2315.12\n",
      "Greatest Increase in Profits: [] ($0)\n",
      "Greatest Decrease in Profits: [] ($0)\n"
     ]
    }
   ],
   "source": [
    "# Import the pathlib and csv liabrary\n",
    "from pathlib import Path\n",
    "import csv\n",
    "\n",
    "# Set the file input path\n",
    "csvpath = Path(\"Resources/budget_data.csv\")\n",
    "\n",
    "# Initialize metric variables and lists\n",
    "total = 0\n",
    "count = 0\n",
    "change = 0\n",
    "max_change_date = []\n",
    "min_change_date = []\n",
    "daily_pnl = []\n",
    "dict_change = {}\n",
    "\n",
    "# Open the input path a a file object\n",
    "with open(csvpath,\"r\") as csvfile:\n",
    "    #Pass in the csv file to the csv.reader() function and return the csvreader object\n",
    "    csvreader = csv.reader(csvfile, delimiter = \",\")\n",
    "    \n",
    "    # Go to the next row from the start of the file\n",
    "    header = next(csvreader)\n",
    "    \n",
    "    # Read each row after the header\n",
    "    for row in csvreader:\n",
    "        \n",
    "        # Sum the total and count variables\n",
    "        total += int(row[1])\n",
    "        count += 1\n",
    "        \n",
    "        # update daily P&L list to store \n",
    "        daily_pnl.append(row[1])\n",
    "        \n",
    "        if count > 1:\n",
    "            change = int(row[1]) - int(daily_pnl[count-2])\n",
    "            dict_change[row[0]] = change\n",
    "            \n",
    "        \n",
    "        \n",
    "        # Logic to determine min and max change in profits and losses\n",
    "        # and to update date in list\n",
    "        if int(row[1]) - int(daily_pnl[count-2]) > change:\n",
    "        \n",
    "        \n",
    "        change == 0:\n",
    "            change = \n",
    "        \n",
    "        int(row[1]) - int(daily_pnl[count-1]) == 0:\n",
    "            min_change = 0\n",
    "            max_change = 0\n",
    "        \n",
    "        elif int(row[1]) - int(daily_pnl[count-1]) > max_change:\n",
    "            max_change = int(row[1]) - int(daily_pnl[count-1]) \n",
    "            max_change_date = row[0]\n",
    "        \n",
    "        elif int(row[1]) - int(daily_pnl[count-1]) < min_change:\n",
    "            min_change = int(row[1]) - int(daily_pnl[count-1]) \n",
    "            min_change_date = row[0]\n",
    "    \n",
    "    # calculate the average change over the period and round to the nearest 2 decimal places\n",
    "    average = round((int(daily_pnl[-1])-int(daily_pnl[0]))/(len(daily_pnl)-1),2)\n",
    "\n",
    "# print the metrics\n",
    "print(\"Financial Analysis\")\n",
    "print(\"-------------------------------\")\n",
    "print(f\"Total Months: {count}\")\n",
    "print(f\"Total: ${total}\")\n",
    "print(f\"Average Change: ${average}\")\n",
    "print(f\"Greatest Increase in Profits: {str(max_change_date)} (${max_change})\")\n",
    "print(f\"Greatest Decrease in Profits: {str(min_change_date)} (${min_change})\")               "
   ]
  },
  {
   "cell_type": "code",
   "execution_count": null,
   "metadata": {},
   "outputs": [],
   "source": []
  },
  {
   "cell_type": "code",
   "execution_count": null,
   "metadata": {},
   "outputs": [],
   "source": []
  },
  {
   "cell_type": "code",
   "execution_count": null,
   "metadata": {},
   "outputs": [],
   "source": []
  }
 ],
 "metadata": {
  "kernelspec": {
   "display_name": "Python 3",
   "language": "python",
   "name": "python3"
  },
  "language_info": {
   "codemirror_mode": {
    "name": "ipython",
    "version": 3
   },
   "file_extension": ".py",
   "mimetype": "text/x-python",
   "name": "python",
   "nbconvert_exporter": "python",
   "pygments_lexer": "ipython3",
   "version": "3.7.7"
  }
 },
 "nbformat": 4,
 "nbformat_minor": 4
}
